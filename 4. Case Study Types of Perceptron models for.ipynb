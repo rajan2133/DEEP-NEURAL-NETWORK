{
  "nbformat": 4,
  "nbformat_minor": 0,
  "metadata": {
    "colab": {
      "provenance": []
    },
    "kernelspec": {
      "name": "python3",
      "display_name": "Python 3"
    },
    "language_info": {
      "name": "python"
    }
  },
  "cells": [
    {
      "cell_type": "markdown",
      "source": [
        "##Case Study - Types of Perceptron models for Deep Learning using AND gate and OR gate.\n"
      ],
      "metadata": {
        "id": "Kf7O2O1WX9oo"
      }
    },
    {
      "cell_type": "code",
      "execution_count": null,
      "metadata": {
        "id": "1gcEr_2wX1qL"
      },
      "outputs": [],
      "source": [
        "from sklearn.linear_model import Perceptron"
      ]
    },
    {
      "cell_type": "code",
      "source": [
        "import numpy as np"
      ],
      "metadata": {
        "id": "sEfyd-bMcFbd"
      },
      "execution_count": null,
      "outputs": []
    },
    {
      "cell_type": "code",
      "source": [
        "x = np.array([[1,1],[-1,1],[1,-1],[-1,-1]])"
      ],
      "metadata": {
        "id": "5HTCTOcDcFeb"
      },
      "execution_count": null,
      "outputs": []
    },
    {
      "cell_type": "code",
      "source": [
        "t = np.array([[1],[-1],[-1],[-1]])"
      ],
      "metadata": {
        "id": "eKzIZOdjd8aW"
      },
      "execution_count": null,
      "outputs": []
    },
    {
      "cell_type": "code",
      "source": [
        "per = Perceptron()"
      ],
      "metadata": {
        "id": "gHi3w3HKcKlM"
      },
      "execution_count": null,
      "outputs": []
    },
    {
      "cell_type": "code",
      "source": [
        "w = per.fit(x,t)"
      ],
      "metadata": {
        "colab": {
          "base_uri": "https://localhost:8080/"
        },
        "id": "e-Xv0M39cKoe",
        "outputId": "8e6d53fe-415f-408e-d554-4f374bc53b99"
      },
      "execution_count": null,
      "outputs": [
        {
          "output_type": "stream",
          "name": "stderr",
          "text": [
            "/usr/local/lib/python3.9/dist-packages/sklearn/utils/validation.py:1143: DataConversionWarning: A column-vector y was passed when a 1d array was expected. Please change the shape of y to (n_samples, ), for example using ravel().\n",
            "  y = column_or_1d(y, warn=True)\n"
          ]
        }
      ]
    },
    {
      "cell_type": "code",
      "source": [
        "w.score(x,t)"
      ],
      "metadata": {
        "colab": {
          "base_uri": "https://localhost:8080/"
        },
        "id": "82cCwtmpcKrT",
        "outputId": "669d8b27-31b0-414a-ae96-fc15938cd9f3"
      },
      "execution_count": null,
      "outputs": [
        {
          "output_type": "execute_result",
          "data": {
            "text/plain": [
              "1.0"
            ]
          },
          "metadata": {},
          "execution_count": 31
        }
      ]
    },
    {
      "cell_type": "code",
      "source": [
        "print(w.coef_)"
      ],
      "metadata": {
        "colab": {
          "base_uri": "https://localhost:8080/"
        },
        "id": "FPTqzbYjcKul",
        "outputId": "d80977a4-fb9e-498b-d28f-528c39f79704"
      },
      "execution_count": null,
      "outputs": [
        {
          "output_type": "stream",
          "name": "stdout",
          "text": [
            "[[1. 1.]]\n"
          ]
        }
      ]
    },
    {
      "cell_type": "code",
      "source": [
        "print(w.intercept_)"
      ],
      "metadata": {
        "colab": {
          "base_uri": "https://localhost:8080/"
        },
        "id": "TFf3JxWgcSIL",
        "outputId": "42b3fcef-d4f0-43e5-ba1c-b3bbdcf5c34a"
      },
      "execution_count": null,
      "outputs": [
        {
          "output_type": "stream",
          "name": "stdout",
          "text": [
            "[-1.]\n"
          ]
        }
      ]
    },
    {
      "cell_type": "code",
      "source": [
        "print(w.predict(np.array([[1,1],[-1,1]])))"
      ],
      "metadata": {
        "colab": {
          "base_uri": "https://localhost:8080/"
        },
        "id": "jsgfznJLcSKo",
        "outputId": "c448cf5b-e83c-4878-9763-a2f284b76a34"
      },
      "execution_count": null,
      "outputs": [
        {
          "output_type": "stream",
          "name": "stdout",
          "text": [
            "[ 1 -1]\n"
          ]
        }
      ]
    },
    {
      "cell_type": "code",
      "source": [
        "print(w.predict(np.array([[3,-2]])))"
      ],
      "metadata": {
        "colab": {
          "base_uri": "https://localhost:8080/"
        },
        "id": "DAUD_Zy8cSM4",
        "outputId": "dc40b474-2cdf-4bb7-8b1c-fa5728c32fcf"
      },
      "execution_count": null,
      "outputs": [
        {
          "output_type": "stream",
          "name": "stdout",
          "text": [
            "[-1]\n"
          ]
        }
      ]
    },
    {
      "cell_type": "markdown",
      "source": [
        "####Example using AND gate"
      ],
      "metadata": {
        "id": "xZH5nxMYeqA4"
      }
    },
    {
      "cell_type": "code",
      "source": [
        "x = np.array([[0, 0], [0, 1], [1, 0], [1, 1]])\n",
        "t = np.array([[0], [0], [0], [1]])"
      ],
      "metadata": {
        "id": "7uP_BzsIcSOu"
      },
      "execution_count": null,
      "outputs": []
    },
    {
      "cell_type": "code",
      "source": [
        "per = Perceptron()"
      ],
      "metadata": {
        "id": "wpYynzx3cSSM"
      },
      "execution_count": null,
      "outputs": []
    },
    {
      "cell_type": "code",
      "source": [
        "w = per.fit(x,t)"
      ],
      "metadata": {
        "colab": {
          "base_uri": "https://localhost:8080/"
        },
        "id": "e685X-FncZ6k",
        "outputId": "b1511b40-382e-49db-bc26-ff6a410f86de"
      },
      "execution_count": null,
      "outputs": [
        {
          "output_type": "stream",
          "name": "stderr",
          "text": [
            "/usr/local/lib/python3.9/dist-packages/sklearn/utils/validation.py:1143: DataConversionWarning: A column-vector y was passed when a 1d array was expected. Please change the shape of y to (n_samples, ), for example using ravel().\n",
            "  y = column_or_1d(y, warn=True)\n"
          ]
        }
      ]
    },
    {
      "cell_type": "code",
      "source": [
        "w.score(x,t)"
      ],
      "metadata": {
        "colab": {
          "base_uri": "https://localhost:8080/"
        },
        "id": "rH-7pLOacZ-J",
        "outputId": "b33b92ae-c6a5-4dea-8313-065bc851194c"
      },
      "execution_count": null,
      "outputs": [
        {
          "output_type": "execute_result",
          "data": {
            "text/plain": [
              "1.0"
            ]
          },
          "metadata": {},
          "execution_count": 39
        }
      ]
    },
    {
      "cell_type": "code",
      "source": [
        "print(w.predict(np.array([[0,0],[1,0]])))"
      ],
      "metadata": {
        "colab": {
          "base_uri": "https://localhost:8080/"
        },
        "id": "UOSSDKrBceXY",
        "outputId": "01c21619-77e7-4840-92f2-debbab83b717"
      },
      "execution_count": null,
      "outputs": [
        {
          "output_type": "stream",
          "name": "stdout",
          "text": [
            "[0 0]\n"
          ]
        }
      ]
    },
    {
      "cell_type": "code",
      "source": [
        "input = np.array([[1,-2,0,-1],[0,1.5,-0.5,-1],[-1,1,0.5,-1]])"
      ],
      "metadata": {
        "id": "LP3qbFiXceem"
      },
      "execution_count": null,
      "outputs": []
    },
    {
      "cell_type": "code",
      "source": [
        "target = np.array([[-1],[-1],[1]])"
      ],
      "metadata": {
        "id": "nqAGf9RvceiL"
      },
      "execution_count": null,
      "outputs": []
    },
    {
      "cell_type": "code",
      "source": [
        "per1 = Perceptron()"
      ],
      "metadata": {
        "id": "FTKVY5m8ckaF"
      },
      "execution_count": null,
      "outputs": []
    },
    {
      "cell_type": "code",
      "source": [
        "b = per1.fit(input,target)"
      ],
      "metadata": {
        "colab": {
          "base_uri": "https://localhost:8080/"
        },
        "id": "YQGr1sT2ckdr",
        "outputId": "86aa0dc5-cf0a-4dc4-82ba-c75269071d8b"
      },
      "execution_count": null,
      "outputs": [
        {
          "output_type": "stream",
          "name": "stderr",
          "text": [
            "/usr/local/lib/python3.9/dist-packages/sklearn/utils/validation.py:1143: DataConversionWarning: A column-vector y was passed when a 1d array was expected. Please change the shape of y to (n_samples, ), for example using ravel().\n",
            "  y = column_or_1d(y, warn=True)\n"
          ]
        }
      ]
    },
    {
      "cell_type": "code",
      "source": [
        "b.score(input,target)"
      ],
      "metadata": {
        "colab": {
          "base_uri": "https://localhost:8080/"
        },
        "id": "bu_4pHFfcn4D",
        "outputId": "981613d6-1ad5-480e-afb6-55c7d9a2c966"
      },
      "execution_count": null,
      "outputs": [
        {
          "output_type": "execute_result",
          "data": {
            "text/plain": [
              "1.0"
            ]
          },
          "metadata": {},
          "execution_count": 45
        }
      ]
    },
    {
      "cell_type": "code",
      "source": [
        "print(w.coef_,w.intercept_)"
      ],
      "metadata": {
        "colab": {
          "base_uri": "https://localhost:8080/"
        },
        "id": "AFJXQAETcn7g",
        "outputId": "4d5f8de3-3de7-48fd-9f63-aaa5180d7eaf"
      },
      "execution_count": null,
      "outputs": [
        {
          "output_type": "stream",
          "name": "stdout",
          "text": [
            "[[2. 2.]] [-2.]\n"
          ]
        }
      ]
    },
    {
      "cell_type": "code",
      "source": [
        "print(b.predict(np.array([[1,-2,0,-1],[0,1.5,-0.5,-1],[-1,1,0.5,-1]])))"
      ],
      "metadata": {
        "colab": {
          "base_uri": "https://localhost:8080/"
        },
        "id": "dFYVE_wkcq9_",
        "outputId": "a57f77e0-afcb-4215-c256-6a780d2cbace"
      },
      "execution_count": null,
      "outputs": [
        {
          "output_type": "stream",
          "name": "stdout",
          "text": [
            "[-1 -1  1]\n"
          ]
        }
      ]
    },
    {
      "cell_type": "code",
      "source": [
        "per1 = Perceptron(eta0=0.1)"
      ],
      "metadata": {
        "id": "H_9Z144HcrB7"
      },
      "execution_count": null,
      "outputs": []
    },
    {
      "cell_type": "code",
      "source": [
        "w1 = per1.fit(input,target,sample_weight=np.array([1,-1,0]))"
      ],
      "metadata": {
        "colab": {
          "base_uri": "https://localhost:8080/"
        },
        "id": "TeIOlBeScrFI",
        "outputId": "63ddd5e5-6be3-4f5a-aa4f-1a11c5e411da"
      },
      "execution_count": null,
      "outputs": [
        {
          "output_type": "stream",
          "name": "stderr",
          "text": [
            "/usr/local/lib/python3.9/dist-packages/sklearn/utils/validation.py:1143: DataConversionWarning: A column-vector y was passed when a 1d array was expected. Please change the shape of y to (n_samples, ), for example using ravel().\n",
            "  y = column_or_1d(y, warn=True)\n"
          ]
        }
      ]
    },
    {
      "cell_type": "code",
      "source": [
        "print(w1.coef_, w1.intercept_)"
      ],
      "metadata": {
        "colab": {
          "base_uri": "https://localhost:8080/"
        },
        "id": "nA-oKvdpczMd",
        "outputId": "961109a0-878d-4dc5-8d73-b97188209fcd"
      },
      "execution_count": null,
      "outputs": [
        {
          "output_type": "stream",
          "name": "stdout",
          "text": [
            "[[ 0.   0.9 -0.3 -0.6]] [0.6]\n"
          ]
        }
      ]
    },
    {
      "cell_type": "code",
      "source": [
        "print(w1.max_iter)"
      ],
      "metadata": {
        "colab": {
          "base_uri": "https://localhost:8080/"
        },
        "id": "gDNsgrVvc1sm",
        "outputId": "e0696ab1-6407-4366-cedd-3da0ba03bf18"
      },
      "execution_count": null,
      "outputs": [
        {
          "output_type": "stream",
          "name": "stdout",
          "text": [
            "1000\n"
          ]
        }
      ]
    }
  ]
}