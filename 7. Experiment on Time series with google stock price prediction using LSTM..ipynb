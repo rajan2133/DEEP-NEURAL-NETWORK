{
  "cells": [
    {
      "cell_type": "markdown",
      "metadata": {
        "id": "VyOckJu6Rs-i"
      },
      "source": [
        "##  Experiment on Time series with google stock price prediction using LSTM."
      ]
    },
    {
      "cell_type": "markdown",
      "metadata": {
        "id": "Ix_m3arWYI_P"
      },
      "source": [
        "## Recurrent Neural Networks using LSTM keras"
      ]
    },
    {
      "cell_type": "code",
      "source": [
        "from google.colab import drive\n",
        "drive.mount('/content/drive')"
      ],
      "metadata": {
        "colab": {
          "base_uri": "https://localhost:8080/"
        },
        "id": "1F4Wfugj4Jto",
        "outputId": "916c33b0-37cb-4611-fac5-60b0b243c374"
      },
      "execution_count": null,
      "outputs": [
        {
          "output_type": "stream",
          "name": "stdout",
          "text": [
            "Drive already mounted at /content/drive; to attempt to forcibly remount, call drive.mount(\"/content/drive\", force_remount=True).\n"
          ]
        }
      ]
    },
    {
      "cell_type": "code",
      "execution_count": null,
      "metadata": {
        "_cell_guid": "b1076dfc-b9ad-4769-8c92-a6c4dae69d19",
        "_uuid": "8f2839f25d086af736a60e9eeb907d3b93b6e0e5",
        "id": "94v_gHBaYI_R"
      },
      "outputs": [],
      "source": [
        "import numpy as np # linear algebra\n",
        "import pandas as pd # data processing, CSV file I/O (e.g. pd.read_csv)\n",
        "import seaborn as sns"
      ]
    },
    {
      "cell_type": "code",
      "execution_count": null,
      "metadata": {
        "_cell_guid": "79c7e3d0-c299-4dcb-8224-4455121ee9b0",
        "_uuid": "d629ff2d2480ee46fbb7e2d37f6b5fab8052498a",
        "id": "z8Ap3SkRYI_S",
        "colab": {
          "base_uri": "https://localhost:8080/"
        },
        "outputId": "8c4d50a3-0693-4637-af56-526fca586293"
      },
      "outputs": [
        {
          "output_type": "stream",
          "name": "stdout",
          "text": [
            "CPU times: user 7.88 ms, sys: 3.06 ms, total: 10.9 ms\n",
            "Wall time: 53.3 ms\n"
          ]
        },
        {
          "output_type": "execute_result",
          "data": {
            "text/plain": [
              "(2720, 7)"
            ]
          },
          "metadata": {},
          "execution_count": 44
        }
      ],
      "source": [
        "# reading the data and calculating the computation time\n",
        "\n",
        "%time training_data = pd.read_csv('/content/drive/MyDrive/Datasets/META.csv')\n",
        "\n",
        "# checking the shape of the data\n",
        "training_data.shape"
      ]
    },
    {
      "cell_type": "code",
      "execution_count": null,
      "metadata": {
        "id": "3N_pzj9UYI_T",
        "colab": {
          "base_uri": "https://localhost:8080/",
          "height": 206
        },
        "outputId": "5f963182-5bb8-4cac-e751-58574b751e70"
      },
      "outputs": [
        {
          "output_type": "execute_result",
          "data": {
            "text/plain": [
              "         Date       Open       High        Low      Close  Adj Close  \\\n",
              "0  2012-05-18  42.049999  45.000000  38.000000  38.230000  38.230000   \n",
              "1  2012-05-21  36.529999  36.660000  33.000000  34.029999  34.029999   \n",
              "2  2012-05-22  32.610001  33.590000  30.940001  31.000000  31.000000   \n",
              "3  2012-05-23  31.370001  32.500000  31.360001  32.000000  32.000000   \n",
              "4  2012-05-24  32.950001  33.209999  31.770000  33.029999  33.029999   \n",
              "\n",
              "      Volume  \n",
              "0  573576400  \n",
              "1  168192700  \n",
              "2  101786600  \n",
              "3   73600000  \n",
              "4   50237200  "
            ],
            "text/html": [
              "\n",
              "  <div id=\"df-2367496b-f148-4fae-a96f-94bf1bd33a5d\">\n",
              "    <div class=\"colab-df-container\">\n",
              "      <div>\n",
              "<style scoped>\n",
              "    .dataframe tbody tr th:only-of-type {\n",
              "        vertical-align: middle;\n",
              "    }\n",
              "\n",
              "    .dataframe tbody tr th {\n",
              "        vertical-align: top;\n",
              "    }\n",
              "\n",
              "    .dataframe thead th {\n",
              "        text-align: right;\n",
              "    }\n",
              "</style>\n",
              "<table border=\"1\" class=\"dataframe\">\n",
              "  <thead>\n",
              "    <tr style=\"text-align: right;\">\n",
              "      <th></th>\n",
              "      <th>Date</th>\n",
              "      <th>Open</th>\n",
              "      <th>High</th>\n",
              "      <th>Low</th>\n",
              "      <th>Close</th>\n",
              "      <th>Adj Close</th>\n",
              "      <th>Volume</th>\n",
              "    </tr>\n",
              "  </thead>\n",
              "  <tbody>\n",
              "    <tr>\n",
              "      <th>0</th>\n",
              "      <td>2012-05-18</td>\n",
              "      <td>42.049999</td>\n",
              "      <td>45.000000</td>\n",
              "      <td>38.000000</td>\n",
              "      <td>38.230000</td>\n",
              "      <td>38.230000</td>\n",
              "      <td>573576400</td>\n",
              "    </tr>\n",
              "    <tr>\n",
              "      <th>1</th>\n",
              "      <td>2012-05-21</td>\n",
              "      <td>36.529999</td>\n",
              "      <td>36.660000</td>\n",
              "      <td>33.000000</td>\n",
              "      <td>34.029999</td>\n",
              "      <td>34.029999</td>\n",
              "      <td>168192700</td>\n",
              "    </tr>\n",
              "    <tr>\n",
              "      <th>2</th>\n",
              "      <td>2012-05-22</td>\n",
              "      <td>32.610001</td>\n",
              "      <td>33.590000</td>\n",
              "      <td>30.940001</td>\n",
              "      <td>31.000000</td>\n",
              "      <td>31.000000</td>\n",
              "      <td>101786600</td>\n",
              "    </tr>\n",
              "    <tr>\n",
              "      <th>3</th>\n",
              "      <td>2012-05-23</td>\n",
              "      <td>31.370001</td>\n",
              "      <td>32.500000</td>\n",
              "      <td>31.360001</td>\n",
              "      <td>32.000000</td>\n",
              "      <td>32.000000</td>\n",
              "      <td>73600000</td>\n",
              "    </tr>\n",
              "    <tr>\n",
              "      <th>4</th>\n",
              "      <td>2012-05-24</td>\n",
              "      <td>32.950001</td>\n",
              "      <td>33.209999</td>\n",
              "      <td>31.770000</td>\n",
              "      <td>33.029999</td>\n",
              "      <td>33.029999</td>\n",
              "      <td>50237200</td>\n",
              "    </tr>\n",
              "  </tbody>\n",
              "</table>\n",
              "</div>\n",
              "      <button class=\"colab-df-convert\" onclick=\"convertToInteractive('df-2367496b-f148-4fae-a96f-94bf1bd33a5d')\"\n",
              "              title=\"Convert this dataframe to an interactive table.\"\n",
              "              style=\"display:none;\">\n",
              "        \n",
              "  <svg xmlns=\"http://www.w3.org/2000/svg\" height=\"24px\"viewBox=\"0 0 24 24\"\n",
              "       width=\"24px\">\n",
              "    <path d=\"M0 0h24v24H0V0z\" fill=\"none\"/>\n",
              "    <path d=\"M18.56 5.44l.94 2.06.94-2.06 2.06-.94-2.06-.94-.94-2.06-.94 2.06-2.06.94zm-11 1L8.5 8.5l.94-2.06 2.06-.94-2.06-.94L8.5 2.5l-.94 2.06-2.06.94zm10 10l.94 2.06.94-2.06 2.06-.94-2.06-.94-.94-2.06-.94 2.06-2.06.94z\"/><path d=\"M17.41 7.96l-1.37-1.37c-.4-.4-.92-.59-1.43-.59-.52 0-1.04.2-1.43.59L10.3 9.45l-7.72 7.72c-.78.78-.78 2.05 0 2.83L4 21.41c.39.39.9.59 1.41.59.51 0 1.02-.2 1.41-.59l7.78-7.78 2.81-2.81c.8-.78.8-2.07 0-2.86zM5.41 20L4 18.59l7.72-7.72 1.47 1.35L5.41 20z\"/>\n",
              "  </svg>\n",
              "      </button>\n",
              "      \n",
              "  <style>\n",
              "    .colab-df-container {\n",
              "      display:flex;\n",
              "      flex-wrap:wrap;\n",
              "      gap: 12px;\n",
              "    }\n",
              "\n",
              "    .colab-df-convert {\n",
              "      background-color: #E8F0FE;\n",
              "      border: none;\n",
              "      border-radius: 50%;\n",
              "      cursor: pointer;\n",
              "      display: none;\n",
              "      fill: #1967D2;\n",
              "      height: 32px;\n",
              "      padding: 0 0 0 0;\n",
              "      width: 32px;\n",
              "    }\n",
              "\n",
              "    .colab-df-convert:hover {\n",
              "      background-color: #E2EBFA;\n",
              "      box-shadow: 0px 1px 2px rgba(60, 64, 67, 0.3), 0px 1px 3px 1px rgba(60, 64, 67, 0.15);\n",
              "      fill: #174EA6;\n",
              "    }\n",
              "\n",
              "    [theme=dark] .colab-df-convert {\n",
              "      background-color: #3B4455;\n",
              "      fill: #D2E3FC;\n",
              "    }\n",
              "\n",
              "    [theme=dark] .colab-df-convert:hover {\n",
              "      background-color: #434B5C;\n",
              "      box-shadow: 0px 1px 3px 1px rgba(0, 0, 0, 0.15);\n",
              "      filter: drop-shadow(0px 1px 2px rgba(0, 0, 0, 0.3));\n",
              "      fill: #FFFFFF;\n",
              "    }\n",
              "  </style>\n",
              "\n",
              "      <script>\n",
              "        const buttonEl =\n",
              "          document.querySelector('#df-2367496b-f148-4fae-a96f-94bf1bd33a5d button.colab-df-convert');\n",
              "        buttonEl.style.display =\n",
              "          google.colab.kernel.accessAllowed ? 'block' : 'none';\n",
              "\n",
              "        async function convertToInteractive(key) {\n",
              "          const element = document.querySelector('#df-2367496b-f148-4fae-a96f-94bf1bd33a5d');\n",
              "          const dataTable =\n",
              "            await google.colab.kernel.invokeFunction('convertToInteractive',\n",
              "                                                     [key], {});\n",
              "          if (!dataTable) return;\n",
              "\n",
              "          const docLinkHtml = 'Like what you see? Visit the ' +\n",
              "            '<a target=\"_blank\" href=https://colab.research.google.com/notebooks/data_table.ipynb>data table notebook</a>'\n",
              "            + ' to learn more about interactive tables.';\n",
              "          element.innerHTML = '';\n",
              "          dataTable['output_type'] = 'display_data';\n",
              "          await google.colab.output.renderOutput(dataTable, element);\n",
              "          const docLink = document.createElement('div');\n",
              "          docLink.innerHTML = docLinkHtml;\n",
              "          element.appendChild(docLink);\n",
              "        }\n",
              "      </script>\n",
              "    </div>\n",
              "  </div>\n",
              "  "
            ]
          },
          "metadata": {},
          "execution_count": 45
        }
      ],
      "source": [
        "training_data.head()"
      ]
    },
    {
      "cell_type": "markdown",
      "metadata": {
        "id": "7G-W9KALYI_T"
      },
      "source": [
        "**Date:**  The date of recorded data\n",
        "\n",
        "**Open:**  The price when stock market open\n",
        "\n",
        "**High:**  The highest price price of date\n",
        "\n",
        "**Low:**  The lowest price point of date\n",
        "\n",
        "**Volume:**  Total Sale of stock on that date"
      ]
    },
    {
      "cell_type": "code",
      "execution_count": null,
      "metadata": {
        "id": "4hS361yrYI_T",
        "colab": {
          "base_uri": "https://localhost:8080/",
          "height": 300
        },
        "outputId": "1469f4a4-5e69-49dd-c632-36f92645ba1f"
      },
      "outputs": [
        {
          "output_type": "execute_result",
          "data": {
            "text/plain": [
              "              Open         High          Low        Close    Adj Close  \\\n",
              "count  2720.000000  2720.000000  2720.000000  2720.000000  2720.000000   \n",
              "mean    148.167070   150.072382   146.292618   148.209283   148.209283   \n",
              "std      86.277795    87.362818    85.230191    86.305906    86.305906   \n",
              "min      18.080000    18.270000    17.549999    17.730000    17.730000   \n",
              "25%      78.115002    78.937502    77.352501    78.350003    78.350003   \n",
              "50%     143.080002   145.199997   141.394997   143.800003   143.800003   \n",
              "75%     190.577503   193.154998   187.855003   190.145000   190.145000   \n",
              "max     381.679993   384.329987   378.809998   382.179993   382.179993   \n",
              "\n",
              "             Volume  \n",
              "count  2.720000e+03  \n",
              "mean   3.123556e+07  \n",
              "std    2.710129e+07  \n",
              "min    5.913100e+06  \n",
              "25%    1.631942e+07  \n",
              "50%    2.330840e+07  \n",
              "75%    3.610565e+07  \n",
              "max    5.735764e+08  "
            ],
            "text/html": [
              "\n",
              "  <div id=\"df-eabc88f6-2c37-49ef-aa85-01bb3aa1cd83\">\n",
              "    <div class=\"colab-df-container\">\n",
              "      <div>\n",
              "<style scoped>\n",
              "    .dataframe tbody tr th:only-of-type {\n",
              "        vertical-align: middle;\n",
              "    }\n",
              "\n",
              "    .dataframe tbody tr th {\n",
              "        vertical-align: top;\n",
              "    }\n",
              "\n",
              "    .dataframe thead th {\n",
              "        text-align: right;\n",
              "    }\n",
              "</style>\n",
              "<table border=\"1\" class=\"dataframe\">\n",
              "  <thead>\n",
              "    <tr style=\"text-align: right;\">\n",
              "      <th></th>\n",
              "      <th>Open</th>\n",
              "      <th>High</th>\n",
              "      <th>Low</th>\n",
              "      <th>Close</th>\n",
              "      <th>Adj Close</th>\n",
              "      <th>Volume</th>\n",
              "    </tr>\n",
              "  </thead>\n",
              "  <tbody>\n",
              "    <tr>\n",
              "      <th>count</th>\n",
              "      <td>2720.000000</td>\n",
              "      <td>2720.000000</td>\n",
              "      <td>2720.000000</td>\n",
              "      <td>2720.000000</td>\n",
              "      <td>2720.000000</td>\n",
              "      <td>2.720000e+03</td>\n",
              "    </tr>\n",
              "    <tr>\n",
              "      <th>mean</th>\n",
              "      <td>148.167070</td>\n",
              "      <td>150.072382</td>\n",
              "      <td>146.292618</td>\n",
              "      <td>148.209283</td>\n",
              "      <td>148.209283</td>\n",
              "      <td>3.123556e+07</td>\n",
              "    </tr>\n",
              "    <tr>\n",
              "      <th>std</th>\n",
              "      <td>86.277795</td>\n",
              "      <td>87.362818</td>\n",
              "      <td>85.230191</td>\n",
              "      <td>86.305906</td>\n",
              "      <td>86.305906</td>\n",
              "      <td>2.710129e+07</td>\n",
              "    </tr>\n",
              "    <tr>\n",
              "      <th>min</th>\n",
              "      <td>18.080000</td>\n",
              "      <td>18.270000</td>\n",
              "      <td>17.549999</td>\n",
              "      <td>17.730000</td>\n",
              "      <td>17.730000</td>\n",
              "      <td>5.913100e+06</td>\n",
              "    </tr>\n",
              "    <tr>\n",
              "      <th>25%</th>\n",
              "      <td>78.115002</td>\n",
              "      <td>78.937502</td>\n",
              "      <td>77.352501</td>\n",
              "      <td>78.350003</td>\n",
              "      <td>78.350003</td>\n",
              "      <td>1.631942e+07</td>\n",
              "    </tr>\n",
              "    <tr>\n",
              "      <th>50%</th>\n",
              "      <td>143.080002</td>\n",
              "      <td>145.199997</td>\n",
              "      <td>141.394997</td>\n",
              "      <td>143.800003</td>\n",
              "      <td>143.800003</td>\n",
              "      <td>2.330840e+07</td>\n",
              "    </tr>\n",
              "    <tr>\n",
              "      <th>75%</th>\n",
              "      <td>190.577503</td>\n",
              "      <td>193.154998</td>\n",
              "      <td>187.855003</td>\n",
              "      <td>190.145000</td>\n",
              "      <td>190.145000</td>\n",
              "      <td>3.610565e+07</td>\n",
              "    </tr>\n",
              "    <tr>\n",
              "      <th>max</th>\n",
              "      <td>381.679993</td>\n",
              "      <td>384.329987</td>\n",
              "      <td>378.809998</td>\n",
              "      <td>382.179993</td>\n",
              "      <td>382.179993</td>\n",
              "      <td>5.735764e+08</td>\n",
              "    </tr>\n",
              "  </tbody>\n",
              "</table>\n",
              "</div>\n",
              "      <button class=\"colab-df-convert\" onclick=\"convertToInteractive('df-eabc88f6-2c37-49ef-aa85-01bb3aa1cd83')\"\n",
              "              title=\"Convert this dataframe to an interactive table.\"\n",
              "              style=\"display:none;\">\n",
              "        \n",
              "  <svg xmlns=\"http://www.w3.org/2000/svg\" height=\"24px\"viewBox=\"0 0 24 24\"\n",
              "       width=\"24px\">\n",
              "    <path d=\"M0 0h24v24H0V0z\" fill=\"none\"/>\n",
              "    <path d=\"M18.56 5.44l.94 2.06.94-2.06 2.06-.94-2.06-.94-.94-2.06-.94 2.06-2.06.94zm-11 1L8.5 8.5l.94-2.06 2.06-.94-2.06-.94L8.5 2.5l-.94 2.06-2.06.94zm10 10l.94 2.06.94-2.06 2.06-.94-2.06-.94-.94-2.06-.94 2.06-2.06.94z\"/><path d=\"M17.41 7.96l-1.37-1.37c-.4-.4-.92-.59-1.43-.59-.52 0-1.04.2-1.43.59L10.3 9.45l-7.72 7.72c-.78.78-.78 2.05 0 2.83L4 21.41c.39.39.9.59 1.41.59.51 0 1.02-.2 1.41-.59l7.78-7.78 2.81-2.81c.8-.78.8-2.07 0-2.86zM5.41 20L4 18.59l7.72-7.72 1.47 1.35L5.41 20z\"/>\n",
              "  </svg>\n",
              "      </button>\n",
              "      \n",
              "  <style>\n",
              "    .colab-df-container {\n",
              "      display:flex;\n",
              "      flex-wrap:wrap;\n",
              "      gap: 12px;\n",
              "    }\n",
              "\n",
              "    .colab-df-convert {\n",
              "      background-color: #E8F0FE;\n",
              "      border: none;\n",
              "      border-radius: 50%;\n",
              "      cursor: pointer;\n",
              "      display: none;\n",
              "      fill: #1967D2;\n",
              "      height: 32px;\n",
              "      padding: 0 0 0 0;\n",
              "      width: 32px;\n",
              "    }\n",
              "\n",
              "    .colab-df-convert:hover {\n",
              "      background-color: #E2EBFA;\n",
              "      box-shadow: 0px 1px 2px rgba(60, 64, 67, 0.3), 0px 1px 3px 1px rgba(60, 64, 67, 0.15);\n",
              "      fill: #174EA6;\n",
              "    }\n",
              "\n",
              "    [theme=dark] .colab-df-convert {\n",
              "      background-color: #3B4455;\n",
              "      fill: #D2E3FC;\n",
              "    }\n",
              "\n",
              "    [theme=dark] .colab-df-convert:hover {\n",
              "      background-color: #434B5C;\n",
              "      box-shadow: 0px 1px 3px 1px rgba(0, 0, 0, 0.15);\n",
              "      filter: drop-shadow(0px 1px 2px rgba(0, 0, 0, 0.3));\n",
              "      fill: #FFFFFF;\n",
              "    }\n",
              "  </style>\n",
              "\n",
              "      <script>\n",
              "        const buttonEl =\n",
              "          document.querySelector('#df-eabc88f6-2c37-49ef-aa85-01bb3aa1cd83 button.colab-df-convert');\n",
              "        buttonEl.style.display =\n",
              "          google.colab.kernel.accessAllowed ? 'block' : 'none';\n",
              "\n",
              "        async function convertToInteractive(key) {\n",
              "          const element = document.querySelector('#df-eabc88f6-2c37-49ef-aa85-01bb3aa1cd83');\n",
              "          const dataTable =\n",
              "            await google.colab.kernel.invokeFunction('convertToInteractive',\n",
              "                                                     [key], {});\n",
              "          if (!dataTable) return;\n",
              "\n",
              "          const docLinkHtml = 'Like what you see? Visit the ' +\n",
              "            '<a target=\"_blank\" href=https://colab.research.google.com/notebooks/data_table.ipynb>data table notebook</a>'\n",
              "            + ' to learn more about interactive tables.';\n",
              "          element.innerHTML = '';\n",
              "          dataTable['output_type'] = 'display_data';\n",
              "          await google.colab.output.renderOutput(dataTable, element);\n",
              "          const docLink = document.createElement('div');\n",
              "          docLink.innerHTML = docLinkHtml;\n",
              "          element.appendChild(docLink);\n",
              "        }\n",
              "      </script>\n",
              "    </div>\n",
              "  </div>\n",
              "  "
            ]
          },
          "metadata": {},
          "execution_count": 46
        }
      ],
      "source": [
        "# let's describe the data\n",
        "\n",
        "training_data.describe()"
      ]
    },
    {
      "cell_type": "code",
      "execution_count": null,
      "metadata": {
        "id": "tQLqm6K5YI_T",
        "colab": {
          "base_uri": "https://localhost:8080/"
        },
        "outputId": "e5adf6af-89b9-4eff-d18d-cd7ad5ba76e5"
      },
      "outputs": [
        {
          "output_type": "execute_result",
          "data": {
            "text/plain": [
              "(2720, 1)"
            ]
          },
          "metadata": {},
          "execution_count": 47
        }
      ],
      "source": [
        "# Lets work on the open stock price only and take out the \" open \" stock column.\n",
        "\n",
        "training_data = training_data.iloc[:, 1:2]\n",
        "\n",
        "# The training_data is in the form of dataframe.\n",
        "training_data.shape"
      ]
    },
    {
      "cell_type": "code",
      "execution_count": null,
      "metadata": {
        "id": "e6y73NqOYI_U",
        "colab": {
          "base_uri": "https://localhost:8080/",
          "height": 206
        },
        "outputId": "a6c70c10-2acc-429d-b90f-a82474417867"
      },
      "outputs": [
        {
          "output_type": "execute_result",
          "data": {
            "text/plain": [
              "        Open\n",
              "0  42.049999\n",
              "1  36.529999\n",
              "2  32.610001\n",
              "3  31.370001\n",
              "4  32.950001"
            ],
            "text/html": [
              "\n",
              "  <div id=\"df-918f2bc2-2be9-4cfe-bbcf-3f9daf72f74f\">\n",
              "    <div class=\"colab-df-container\">\n",
              "      <div>\n",
              "<style scoped>\n",
              "    .dataframe tbody tr th:only-of-type {\n",
              "        vertical-align: middle;\n",
              "    }\n",
              "\n",
              "    .dataframe tbody tr th {\n",
              "        vertical-align: top;\n",
              "    }\n",
              "\n",
              "    .dataframe thead th {\n",
              "        text-align: right;\n",
              "    }\n",
              "</style>\n",
              "<table border=\"1\" class=\"dataframe\">\n",
              "  <thead>\n",
              "    <tr style=\"text-align: right;\">\n",
              "      <th></th>\n",
              "      <th>Open</th>\n",
              "    </tr>\n",
              "  </thead>\n",
              "  <tbody>\n",
              "    <tr>\n",
              "      <th>0</th>\n",
              "      <td>42.049999</td>\n",
              "    </tr>\n",
              "    <tr>\n",
              "      <th>1</th>\n",
              "      <td>36.529999</td>\n",
              "    </tr>\n",
              "    <tr>\n",
              "      <th>2</th>\n",
              "      <td>32.610001</td>\n",
              "    </tr>\n",
              "    <tr>\n",
              "      <th>3</th>\n",
              "      <td>31.370001</td>\n",
              "    </tr>\n",
              "    <tr>\n",
              "      <th>4</th>\n",
              "      <td>32.950001</td>\n",
              "    </tr>\n",
              "  </tbody>\n",
              "</table>\n",
              "</div>\n",
              "      <button class=\"colab-df-convert\" onclick=\"convertToInteractive('df-918f2bc2-2be9-4cfe-bbcf-3f9daf72f74f')\"\n",
              "              title=\"Convert this dataframe to an interactive table.\"\n",
              "              style=\"display:none;\">\n",
              "        \n",
              "  <svg xmlns=\"http://www.w3.org/2000/svg\" height=\"24px\"viewBox=\"0 0 24 24\"\n",
              "       width=\"24px\">\n",
              "    <path d=\"M0 0h24v24H0V0z\" fill=\"none\"/>\n",
              "    <path d=\"M18.56 5.44l.94 2.06.94-2.06 2.06-.94-2.06-.94-.94-2.06-.94 2.06-2.06.94zm-11 1L8.5 8.5l.94-2.06 2.06-.94-2.06-.94L8.5 2.5l-.94 2.06-2.06.94zm10 10l.94 2.06.94-2.06 2.06-.94-2.06-.94-.94-2.06-.94 2.06-2.06.94z\"/><path d=\"M17.41 7.96l-1.37-1.37c-.4-.4-.92-.59-1.43-.59-.52 0-1.04.2-1.43.59L10.3 9.45l-7.72 7.72c-.78.78-.78 2.05 0 2.83L4 21.41c.39.39.9.59 1.41.59.51 0 1.02-.2 1.41-.59l7.78-7.78 2.81-2.81c.8-.78.8-2.07 0-2.86zM5.41 20L4 18.59l7.72-7.72 1.47 1.35L5.41 20z\"/>\n",
              "  </svg>\n",
              "      </button>\n",
              "      \n",
              "  <style>\n",
              "    .colab-df-container {\n",
              "      display:flex;\n",
              "      flex-wrap:wrap;\n",
              "      gap: 12px;\n",
              "    }\n",
              "\n",
              "    .colab-df-convert {\n",
              "      background-color: #E8F0FE;\n",
              "      border: none;\n",
              "      border-radius: 50%;\n",
              "      cursor: pointer;\n",
              "      display: none;\n",
              "      fill: #1967D2;\n",
              "      height: 32px;\n",
              "      padding: 0 0 0 0;\n",
              "      width: 32px;\n",
              "    }\n",
              "\n",
              "    .colab-df-convert:hover {\n",
              "      background-color: #E2EBFA;\n",
              "      box-shadow: 0px 1px 2px rgba(60, 64, 67, 0.3), 0px 1px 3px 1px rgba(60, 64, 67, 0.15);\n",
              "      fill: #174EA6;\n",
              "    }\n",
              "\n",
              "    [theme=dark] .colab-df-convert {\n",
              "      background-color: #3B4455;\n",
              "      fill: #D2E3FC;\n",
              "    }\n",
              "\n",
              "    [theme=dark] .colab-df-convert:hover {\n",
              "      background-color: #434B5C;\n",
              "      box-shadow: 0px 1px 3px 1px rgba(0, 0, 0, 0.15);\n",
              "      filter: drop-shadow(0px 1px 2px rgba(0, 0, 0, 0.3));\n",
              "      fill: #FFFFFF;\n",
              "    }\n",
              "  </style>\n",
              "\n",
              "      <script>\n",
              "        const buttonEl =\n",
              "          document.querySelector('#df-918f2bc2-2be9-4cfe-bbcf-3f9daf72f74f button.colab-df-convert');\n",
              "        buttonEl.style.display =\n",
              "          google.colab.kernel.accessAllowed ? 'block' : 'none';\n",
              "\n",
              "        async function convertToInteractive(key) {\n",
              "          const element = document.querySelector('#df-918f2bc2-2be9-4cfe-bbcf-3f9daf72f74f');\n",
              "          const dataTable =\n",
              "            await google.colab.kernel.invokeFunction('convertToInteractive',\n",
              "                                                     [key], {});\n",
              "          if (!dataTable) return;\n",
              "\n",
              "          const docLinkHtml = 'Like what you see? Visit the ' +\n",
              "            '<a target=\"_blank\" href=https://colab.research.google.com/notebooks/data_table.ipynb>data table notebook</a>'\n",
              "            + ' to learn more about interactive tables.';\n",
              "          element.innerHTML = '';\n",
              "          dataTable['output_type'] = 'display_data';\n",
              "          await google.colab.output.renderOutput(dataTable, element);\n",
              "          const docLink = document.createElement('div');\n",
              "          docLink.innerHTML = docLinkHtml;\n",
              "          element.appendChild(docLink);\n",
              "        }\n",
              "      </script>\n",
              "    </div>\n",
              "  </div>\n",
              "  "
            ]
          },
          "metadata": {},
          "execution_count": 48
        }
      ],
      "source": [
        "# checking the head of the data\n",
        "\n",
        "training_data.head()"
      ]
    },
    {
      "cell_type": "code",
      "execution_count": null,
      "metadata": {
        "id": "pOj0-YzJYI_U",
        "colab": {
          "base_uri": "https://localhost:8080/",
          "height": 350
        },
        "outputId": "31977c9f-d3fe-4711-bbf6-e67407fe97bb"
      },
      "outputs": [
        {
          "output_type": "display_data",
          "data": {
            "text/plain": [
              "<Figure size 720x360 with 1 Axes>"
            ],
            "image/png": "[encoded data removed]"
          },
          "metadata": {
            "needs_background": "light"
          }
        }
      ],
      "source": [
        "import matplotlib.pylab as plt\n",
        "plt.figure(figsize=(10,5))\n",
        "plt.plot(training_data, color ='green');\n",
        "plt.ylabel('Stock Price')\n",
        "plt.title('Google Stock Price')\n",
        "plt.xlabel('Time')\n",
        "plt.show()"
      ]
    },
    {
      "cell_type": "code",
      "execution_count": null,
      "metadata": {
        "id": "8gotQzIYYI_U",
        "colab": {
          "base_uri": "https://localhost:8080/"
        },
        "outputId": "61fa7318-2007-45a3-d727-cdb3a2a54e75"
      },
      "outputs": [
        {
          "output_type": "execute_result",
          "data": {
            "text/plain": [
              "(2720, 1)"
            ]
          },
          "metadata": {},
          "execution_count": 50
        }
      ],
      "source": [
        "\n",
        "# Normalize the training data between [0,1]\n",
        "from sklearn.preprocessing import MinMaxScaler\n",
        "#the fit method, when applied to the training dataset, learns the model parameters (for example, mean and standard deviation).\n",
        "#We then need to apply the transform method on the training dataset to get the transformed (scaled) training dataset.\n",
        "#We could also perform both of this step in one step by applying fit_transform on the training dataset.\n",
        "mm = MinMaxScaler(feature_range = (0, 1))\n",
        "training_data_scaled = mm.fit_transform(training_data)\n",
        "training_data_scaled.shape"
      ]
    },
    {
      "cell_type": "markdown",
      "metadata": {
        "id": "v3qmRKhXYI_V"
      },
      "source": [
        "As you can see that the Y-axis is completely changed, it is scaled in between 0 and 1, this is because, all the values are in different weights, so in order to have a good prediction, scaling has to be made. Remember that the scaling can be done on to floating point values."
      ]
    },
    {
      "cell_type": "code",
      "execution_count": null,
      "metadata": {
        "id": "qA9GUS18YI_V",
        "colab": {
          "base_uri": "https://localhost:8080/",
          "height": 350
        },
        "outputId": "bc384ba3-af93-482b-d9f4-2961aa046fda"
      },
      "outputs": [
        {
          "output_type": "display_data",
          "data": {
            "text/plain": [
              "<Figure size 720x360 with 1 Axes>"
            ],
            "image/png": "[encoded data removed]"
          },
          "metadata": {
            "needs_background": "light"
          }
        }
      ],
      "source": [
        "plt.figure(figsize=(10,5))\n",
        "plt.plot(training_data_scaled);\n",
        "plt.title('Google Stock Price Prediction')\n",
        "plt.xlabel('Time')\n",
        "plt.ylabel('Google Stock Price')\n",
        "plt.show()"
      ]
    },
    {
      "cell_type": "markdown",
      "metadata": {
        "id": "gOMbU5chYI_V"
      },
      "source": [
        "### Here comes the most important part of the model which is \" Feature Scaling \""
      ]
    },
    {
      "cell_type": "code",
      "execution_count": null,
      "metadata": {
        "id": "DgxPfGSGYI_W",
        "colab": {
          "base_uri": "https://localhost:8080/"
        },
        "outputId": "0844db32-a20d-46bb-e79a-3cf795ec82bd"
      },
      "outputs": [
        {
          "output_type": "stream",
          "name": "stdout",
          "text": [
            "(1198, 1)\n",
            "(1198, 1)\n"
          ]
        }
      ],
      "source": [
        "\n",
        "# Getting the inputs and outputs directly if you know how to consider the past data for the number of time stamps needed for RNN.\n",
        "x_train = training_data_scaled[59:1257]\n",
        "y_train = training_data_scaled[60:1258]\n",
        "print(x_train.shape)\n",
        "print(y_train.shape)"
      ]
    },
    {
      "cell_type": "markdown",
      "metadata": {
        "id": "zc_NYHrsYI_W"
      },
      "source": [
        "Remember that, the x_train and y_train must have the same values. to process RNN"
      ]
    },
    {
      "cell_type": "markdown",
      "metadata": {
        "id": "YSWiLiP9YI_W"
      },
      "source": [
        "An alternative approach using a for loop would be the code below."
      ]
    },
    {
      "cell_type": "code",
      "execution_count": null,
      "metadata": {
        "id": "dRKA-HIvYI_W",
        "colab": {
          "base_uri": "https://localhost:8080/",
          "height": 88
        },
        "outputId": "6cfc31f8-badb-48f6-a65c-cb8b354b8d89"
      },
      "outputs": [
        {
          "output_type": "execute_result",
          "data": {
            "text/plain": [
              "'for i in range(60,1258):\\n    #first 59 values of x will be the training data and the 60th value will be output\\n    #2nd set of values start from 60th (inculding the output of the  first set) will be the next 60 input values of the 2nd set and it continues.\\n    #append is to add the values to the values to x and y\\n    #as the values are in the form of dataframe, they has to be stored in the form of a numpy array.\\n    x_train.append(training_data_scaled[i-60:i, 0])\\n    y_train.append(training_data_scaled[i,0])\\nx_train,y_train = np.array(x_train),np.array(y_train)\\nprint(x_train.shape)\\nprint(y_train.shape)'"
            ],
            "application/vnd.google.colaboratory.intrinsic+json": {
              "type": "string"
            }
          },
          "metadata": {},
          "execution_count": 53
        }
      ],
      "source": [
        "'''for i in range(60,1258):\n",
        "    #first 59 values of x will be the training data and the 60th value will be output\n",
        "    #2nd set of values start from 60th (inculding the output of the  first set) will be the next 60 input values of the 2nd set and it continues.\n",
        "    #append is to add the values to the values to x and y\n",
        "    #as the values are in the form of dataframe, they has to be stored in the form of a numpy array.\n",
        "    x_train.append(training_data_scaled[i-60:i, 0])\n",
        "    y_train.append(training_data_scaled[i,0])\n",
        "x_train,y_train = np.array(x_train),np.array(y_train)\n",
        "print(x_train.shape)\n",
        "print(y_train.shape)'''"
      ]
    },
    {
      "cell_type": "markdown",
      "metadata": {
        "id": "rKQIZvSRYI_X"
      },
      "source": [
        "**(Sample, time_steps, features)** represents the tensor you will feed into your LSTM, let’s look at these three “dimension” (we call that a rank for a tensor).\n",
        "\n",
        "**Sample:** It’s the size of your minibatch: How many examples you give at once to your neural net.\n",
        "\n",
        "**time_steps:** That’s the length of a sequence. Don’t forget, recurrent neural network are designed to process time-series.\n",
        "\n",
        "**features:** That’s the dimension of each element of the time-series."
      ]
    },
    {
      "cell_type": "markdown",
      "metadata": {
        "id": "sgRqO31IYI_X"
      },
      "source": [
        "x_train should be a 3d array, hence reshaping the 2D to a 3D array."
      ]
    },
    {
      "cell_type": "code",
      "execution_count": null,
      "metadata": {
        "id": "C9AuMo4JYI_X",
        "colab": {
          "base_uri": "https://localhost:8080/"
        },
        "outputId": "5e7d7768-099a-49a1-d584-eb6ff963063e"
      },
      "outputs": [
        {
          "output_type": "stream",
          "name": "stdout",
          "text": [
            "(1198, 1, 1)\n"
          ]
        }
      ],
      "source": [
        "# reshaping\n",
        "x_train = np.reshape(x_train, (1198,1,1))\n",
        "print(x_train.shape)"
      ]
    },
    {
      "cell_type": "code",
      "execution_count": null,
      "metadata": {
        "id": "SkUCAnHzYI_X",
        "colab": {
          "base_uri": "https://localhost:8080/",
          "height": 36
        },
        "outputId": "88429ace-ddcd-4296-86f3-0500479d3747"
      },
      "outputs": [
        {
          "output_type": "execute_result",
          "data": {
            "text/plain": [
              "' https://towardsdatascience.com/understanding-lstm-and-its-quick-implementation-in-keras-for-sentiment-analysis-af410fd85b47 '"
            ],
            "application/vnd.google.colaboratory.intrinsic+json": {
              "type": "string"
            }
          },
          "metadata": {},
          "execution_count": 55
        }
      ],
      "source": [
        "import keras\n",
        "from keras.models import Sequential #helps to create model, layer by layer.\n",
        "from keras.layers import Dense, LSTM, Dropout\n",
        "#The dense layer is fully connected layer, so all the neurons in a layer are connected to those in a next layer.\n",
        "#The dropout drops connections of neurons from the dense layer to prevent overfitting. the neurons whose value falls under 0, will be removed.\n",
        "#LSTM gates to control the memorizing process. For detailed information on LSTM, go through the link below.\n",
        "''' https://towardsdatascience.com/understanding-lstm-and-its-quick-implementation-in-keras-for-sentiment-analysis-af410fd85b47 '''"
      ]
    },
    {
      "cell_type": "code",
      "execution_count": null,
      "metadata": {
        "id": "pdQQMutuYI_X"
      },
      "outputs": [],
      "source": [
        "# Create model using LSTM, Dropout and Dense layer as an output layer.\n",
        "#Initializing the RNN\n",
        "regressor = Sequential()\n",
        "regressor.add(LSTM(units = 50,return_sequences = True,input_shape = (x_train.shape[1],1)))\n",
        "regressor.add(Dropout(0.2))"
      ]
    },
    {
      "cell_type": "code",
      "execution_count": null,
      "metadata": {
        "id": "-2Wm7lrwYI_Y"
      },
      "outputs": [],
      "source": [
        "# Adding second hidden layer\n",
        "regressor.add(LSTM(units = 50,return_sequences = True))\n",
        "regressor.add(Dropout(0.2))"
      ]
    },
    {
      "cell_type": "code",
      "execution_count": null,
      "metadata": {
        "id": "V2qilosMYI_Y"
      },
      "outputs": [],
      "source": [
        "# Adding third hidden layer\n",
        "regressor.add(LSTM(units = 50,return_sequences = True))\n",
        "regressor.add(Dropout(0.2))"
      ]
    },
    {
      "cell_type": "code",
      "execution_count": null,
      "metadata": {
        "id": "Q8veXsWiYI_Y"
      },
      "outputs": [],
      "source": [
        "#Adding fourth hidden layer\n",
        "regressor.add(LSTM(units = 50))\n",
        "regressor.add(Dropout(0.2))"
      ]
    },
    {
      "cell_type": "code",
      "execution_count": null,
      "metadata": {
        "id": "RrVgPcHJYI_Y"
      },
      "outputs": [],
      "source": [
        "# Adding dense layer to get the final output. The input of n-1 layer, will be the output for n layer.\n",
        "regressor.add(Dense(units = 1))"
      ]
    },
    {
      "cell_type": "code",
      "execution_count": null,
      "metadata": {
        "id": "ZDD7w-9oYI_Y"
      },
      "outputs": [],
      "source": [
        "regressor.compile(optimizer = 'adam',loss = 'mean_squared_error')"
      ]
    },
    {
      "cell_type": "markdown",
      "metadata": {
        "id": "j-pGu1BoYI_Y"
      },
      "source": [
        "ADAM optimization algorithm is used and a mean squared error loss function is optimized. This will be the same metric that we will use to evaluate the performance of the model to find the global minimum error."
      ]
    },
    {
      "cell_type": "code",
      "execution_count": null,
      "metadata": {
        "id": "6u5Uaw0NYI_Y",
        "colab": {
          "base_uri": "https://localhost:8080/"
        },
        "outputId": "80f8d247-45c4-4514-8c8e-8e1acf4d6e66"
      },
      "outputs": [
        {
          "output_type": "stream",
          "name": "stdout",
          "text": [
            "Epoch 1/100\n",
            "38/38 [==============================] - 10s 8ms/step - loss: 0.0205\n",
            "Epoch 2/100\n",
            "38/38 [==============================] - 0s 8ms/step - loss: 0.0093\n",
            "Epoch 3/100\n",
            "38/38 [==============================] - 0s 7ms/step - loss: 0.0055\n",
            "Epoch 4/100\n",
            "38/38 [==============================] - 0s 7ms/step - loss: 7.0279e-04\n",
            "Epoch 5/100\n",
            "38/38 [==============================] - 0s 8ms/step - loss: 5.7763e-04\n",
            "Epoch 6/100\n",
            "38/38 [==============================] - 0s 11ms/step - loss: 5.0448e-04\n",
            "Epoch 7/100\n",
            "38/38 [==============================] - 0s 11ms/step - loss: 4.7910e-04\n",
            "Epoch 8/100\n",
            "38/38 [==============================] - 0s 12ms/step - loss: 4.4633e-04\n",
            "Epoch 9/100\n",
            "38/38 [==============================] - 0s 11ms/step - loss: 3.9102e-04\n",
            "Epoch 10/100\n",
            "38/38 [==============================] - 0s 12ms/step - loss: 4.2182e-04\n",
            "Epoch 11/100\n",
            "38/38 [==============================] - 0s 11ms/step - loss: 4.2712e-04\n",
            "Epoch 12/100\n",
            "38/38 [==============================] - 0s 12ms/step - loss: 3.7170e-04\n",
            "Epoch 13/100\n",
            "38/38 [==============================] - 0s 11ms/step - loss: 3.5137e-04\n",
            "Epoch 14/100\n",
            "38/38 [==============================] - 0s 11ms/step - loss: 3.8351e-04\n",
            "Epoch 15/100\n",
            "38/38 [==============================] - 0s 12ms/step - loss: 3.5076e-04\n",
            "Epoch 16/100\n",
            "38/38 [==============================] - 0s 8ms/step - loss: 3.5525e-04\n",
            "Epoch 17/100\n",
            "38/38 [==============================] - 0s 8ms/step - loss: 3.3549e-04\n",
            "Epoch 18/100\n",
            "38/38 [==============================] - 0s 8ms/step - loss: 3.6666e-04\n",
            "Epoch 19/100\n",
            "38/38 [==============================] - 0s 8ms/step - loss: 3.0651e-04\n",
            "Epoch 20/100\n",
            "38/38 [==============================] - 0s 8ms/step - loss: 3.4590e-04\n",
            "Epoch 21/100\n",
            "38/38 [==============================] - 0s 8ms/step - loss: 3.4966e-04\n",
            "Epoch 22/100\n",
            "38/38 [==============================] - 0s 8ms/step - loss: 3.4592e-04\n",
            "Epoch 23/100\n",
            "38/38 [==============================] - 0s 8ms/step - loss: 3.0568e-04\n",
            "Epoch 24/100\n",
            "38/38 [==============================] - 0s 8ms/step - loss: 3.0167e-04\n",
            "Epoch 25/100\n",
            "38/38 [==============================] - 0s 8ms/step - loss: 3.1712e-04\n",
            "Epoch 26/100\n",
            "38/38 [==============================] - 0s 8ms/step - loss: 3.1932e-04\n",
            "Epoch 27/100\n",
            "38/38 [==============================] - 0s 8ms/step - loss: 3.4232e-04\n",
            "Epoch 28/100\n",
            "38/38 [==============================] - 0s 9ms/step - loss: 3.2375e-04\n",
            "Epoch 29/100\n",
            "38/38 [==============================] - 0s 8ms/step - loss: 2.8403e-04\n",
            "Epoch 30/100\n",
            "38/38 [==============================] - 0s 8ms/step - loss: 3.0812e-04\n",
            "Epoch 31/100\n",
            "38/38 [==============================] - 0s 8ms/step - loss: 2.9327e-04\n",
            "Epoch 32/100\n",
            "38/38 [==============================] - 0s 8ms/step - loss: 3.1034e-04\n",
            "Epoch 33/100\n",
            "38/38 [==============================] - 0s 8ms/step - loss: 2.9235e-04\n",
            "Epoch 34/100\n",
            "38/38 [==============================] - 0s 8ms/step - loss: 2.9841e-04\n",
            "Epoch 35/100\n",
            "38/38 [==============================] - 0s 8ms/step - loss: 2.9679e-04\n",
            "Epoch 36/100\n",
            "38/38 [==============================] - 0s 7ms/step - loss: 3.1917e-04\n",
            "Epoch 37/100\n",
            "38/38 [==============================] - 0s 8ms/step - loss: 3.0011e-04\n",
            "Epoch 38/100\n",
            "38/38 [==============================] - 0s 8ms/step - loss: 3.1182e-04\n",
            "Epoch 39/100\n",
            "38/38 [==============================] - 0s 8ms/step - loss: 2.7952e-04\n",
            "Epoch 40/100\n",
            "38/38 [==============================] - 0s 8ms/step - loss: 2.9064e-04\n",
            "Epoch 41/100\n",
            "38/38 [==============================] - 0s 8ms/step - loss: 2.5642e-04\n",
            "Epoch 42/100\n",
            "38/38 [==============================] - 0s 8ms/step - loss: 2.5516e-04\n",
            "Epoch 43/100\n",
            "38/38 [==============================] - 0s 8ms/step - loss: 2.7685e-04\n",
            "Epoch 44/100\n",
            "38/38 [==============================] - 0s 7ms/step - loss: 2.8787e-04\n",
            "Epoch 45/100\n",
            "38/38 [==============================] - 0s 8ms/step - loss: 2.6372e-04\n",
            "Epoch 46/100\n",
            "38/38 [==============================] - 0s 8ms/step - loss: 2.8071e-04\n",
            "Epoch 47/100\n",
            "38/38 [==============================] - 0s 8ms/step - loss: 2.7433e-04\n",
            "Epoch 48/100\n",
            "38/38 [==============================] - 0s 10ms/step - loss: 2.8083e-04\n",
            "Epoch 49/100\n",
            "38/38 [==============================] - 0s 11ms/step - loss: 2.8389e-04\n",
            "Epoch 50/100\n",
            "38/38 [==============================] - 0s 11ms/step - loss: 2.6355e-04\n",
            "Epoch 51/100\n",
            "38/38 [==============================] - 0s 11ms/step - loss: 2.5657e-04\n",
            "Epoch 52/100\n",
            "38/38 [==============================] - 0s 11ms/step - loss: 2.7683e-04\n",
            "Epoch 53/100\n",
            "38/38 [==============================] - 0s 11ms/step - loss: 3.0000e-04\n",
            "Epoch 54/100\n",
            "38/38 [==============================] - 0s 12ms/step - loss: 2.6149e-04\n",
            "Epoch 55/100\n",
            "38/38 [==============================] - 0s 12ms/step - loss: 2.6100e-04\n",
            "Epoch 56/100\n",
            "38/38 [==============================] - 0s 12ms/step - loss: 2.4658e-04\n",
            "Epoch 57/100\n",
            "38/38 [==============================] - 0s 11ms/step - loss: 2.8586e-04\n",
            "Epoch 58/100\n",
            "38/38 [==============================] - 0s 8ms/step - loss: 2.6328e-04\n",
            "Epoch 59/100\n",
            "38/38 [==============================] - 0s 8ms/step - loss: 2.6915e-04\n",
            "Epoch 60/100\n",
            "38/38 [==============================] - 0s 8ms/step - loss: 2.8067e-04\n",
            "Epoch 61/100\n",
            "38/38 [==============================] - 0s 8ms/step - loss: 2.5319e-04\n",
            "Epoch 62/100\n",
            "38/38 [==============================] - 0s 8ms/step - loss: 2.4927e-04\n",
            "Epoch 63/100\n",
            "38/38 [==============================] - 0s 8ms/step - loss: 2.3605e-04\n",
            "Epoch 64/100\n",
            "38/38 [==============================] - 0s 7ms/step - loss: 2.3732e-04\n",
            "Epoch 65/100\n",
            "38/38 [==============================] - 0s 8ms/step - loss: 2.5265e-04\n",
            "Epoch 66/100\n",
            "38/38 [==============================] - 0s 8ms/step - loss: 2.6283e-04\n",
            "Epoch 67/100\n",
            "38/38 [==============================] - 0s 8ms/step - loss: 2.5163e-04\n",
            "Epoch 68/100\n",
            "38/38 [==============================] - 0s 8ms/step - loss: 2.6936e-04\n",
            "Epoch 69/100\n",
            "38/38 [==============================] - 0s 8ms/step - loss: 2.3823e-04\n",
            "Epoch 70/100\n",
            "38/38 [==============================] - 0s 8ms/step - loss: 2.6674e-04\n",
            "Epoch 71/100\n",
            "38/38 [==============================] - 0s 8ms/step - loss: 2.4402e-04\n",
            "Epoch 72/100\n",
            "38/38 [==============================] - 0s 8ms/step - loss: 2.4436e-04\n",
            "Epoch 73/100\n",
            "38/38 [==============================] - 0s 8ms/step - loss: 2.3744e-04\n",
            "Epoch 74/100\n",
            "38/38 [==============================] - 0s 8ms/step - loss: 2.5091e-04\n",
            "Epoch 75/100\n",
            "38/38 [==============================] - 0s 8ms/step - loss: 2.6984e-04\n",
            "Epoch 76/100\n",
            "38/38 [==============================] - 0s 8ms/step - loss: 2.5386e-04\n",
            "Epoch 77/100\n",
            "38/38 [==============================] - 0s 8ms/step - loss: 2.5753e-04\n",
            "Epoch 78/100\n",
            "38/38 [==============================] - 0s 8ms/step - loss: 2.4039e-04\n",
            "Epoch 79/100\n",
            "38/38 [==============================] - 0s 10ms/step - loss: 2.3836e-04\n",
            "Epoch 80/100\n",
            "38/38 [==============================] - 0s 8ms/step - loss: 2.3565e-04\n",
            "Epoch 81/100\n",
            "38/38 [==============================] - 0s 8ms/step - loss: 2.4629e-04\n",
            "Epoch 82/100\n",
            "38/38 [==============================] - 0s 8ms/step - loss: 2.4995e-04\n",
            "Epoch 83/100\n",
            "38/38 [==============================] - 0s 8ms/step - loss: 2.4888e-04\n",
            "Epoch 84/100\n",
            "38/38 [==============================] - 0s 8ms/step - loss: 2.3387e-04\n",
            "Epoch 85/100\n",
            "38/38 [==============================] - 0s 8ms/step - loss: 2.2338e-04\n",
            "Epoch 86/100\n",
            "38/38 [==============================] - 0s 8ms/step - loss: 2.3201e-04\n",
            "Epoch 87/100\n",
            "38/38 [==============================] - 0s 8ms/step - loss: 2.6134e-04\n",
            "Epoch 88/100\n",
            "38/38 [==============================] - 0s 8ms/step - loss: 2.6271e-04\n",
            "Epoch 89/100\n",
            "38/38 [==============================] - 0s 8ms/step - loss: 2.3709e-04\n",
            "Epoch 90/100\n",
            "38/38 [==============================] - 0s 11ms/step - loss: 2.3756e-04\n",
            "Epoch 91/100\n",
            "38/38 [==============================] - 0s 12ms/step - loss: 2.5053e-04\n",
            "Epoch 92/100\n",
            "38/38 [==============================] - 0s 11ms/step - loss: 2.5445e-04\n",
            "Epoch 93/100\n",
            "38/38 [==============================] - 0s 12ms/step - loss: 2.4386e-04\n",
            "Epoch 94/100\n",
            "38/38 [==============================] - 0s 11ms/step - loss: 2.2877e-04\n",
            "Epoch 95/100\n",
            "38/38 [==============================] - 0s 12ms/step - loss: 2.3864e-04\n",
            "Epoch 96/100\n",
            "38/38 [==============================] - 0s 12ms/step - loss: 2.3869e-04\n",
            "Epoch 97/100\n",
            "38/38 [==============================] - 0s 11ms/step - loss: 2.2380e-04\n",
            "Epoch 98/100\n",
            "38/38 [==============================] - 0s 12ms/step - loss: 2.5640e-04\n",
            "Epoch 99/100\n",
            "38/38 [==============================] - 0s 11ms/step - loss: 2.6020e-04\n",
            "Epoch 100/100\n",
            "38/38 [==============================] - 0s 8ms/step - loss: 2.4551e-04\n"
          ]
        },
        {
          "output_type": "execute_result",
          "data": {
            "text/plain": [
              "<keras.callbacks.History at 0x7fb852964a60>"
            ]
          },
          "metadata": {},
          "execution_count": 62
        }
      ],
      "source": [
        "# Train the model\n",
        "regressor.fit(x_train,y_train,epochs = 100, batch_size = 32)"
      ]
    },
    {
      "cell_type": "markdown",
      "metadata": {
        "id": "8FRIpkFwYI_Z"
      },
      "source": [
        "Let us take the test set and check the accuracy."
      ]
    },
    {
      "cell_type": "code",
      "execution_count": null,
      "metadata": {
        "id": "XB_KMLZFYI_Z",
        "colab": {
          "base_uri": "https://localhost:8080/"
        },
        "outputId": "eb568575-5161-4c8f-eaa1-ce505c7353d2"
      },
      "outputs": [
        {
          "output_type": "execute_result",
          "data": {
            "text/plain": [
              "2720"
            ]
          },
          "metadata": {},
          "execution_count": 63
        }
      ],
      "source": [
        "test_data = pd.read_csv('/content/drive/MyDrive/Datasets/META.csv')\n",
        "test_stock = test_data.iloc[:,1:2]\n",
        "len(test_stock)"
      ]
    },
    {
      "cell_type": "code",
      "execution_count": null,
      "metadata": {
        "id": "M1lzJ8HcYI_Z"
      },
      "outputs": [],
      "source": [
        "input_value = test_stock\n",
        "input_value = mm.transform(input_value)\n",
        "# perfor the same process, converting a 2D array to 3D\n",
        "input_value = np.reshape(input_value, (2720 , 1, 1))"
      ]
    },
    {
      "cell_type": "code",
      "execution_count": null,
      "metadata": {
        "id": "02-gSdW9YI_Z",
        "colab": {
          "base_uri": "https://localhost:8080/"
        },
        "outputId": "96e0f718-b177-461e-c3aa-15705f03830b"
      },
      "outputs": [
        {
          "output_type": "stream",
          "name": "stdout",
          "text": [
            "85/85 [==============================] - 2s 3ms/step\n"
          ]
        }
      ],
      "source": [
        "prediction = regressor.predict(input_value)\n",
        "prediction = mm.inverse_transform(prediction)"
      ]
    },
    {
      "cell_type": "code",
      "source": [
        "# test_score = regressor.evaluate(test_data, test_stock)\n",
        "# print('Test loss {:.4f}, accuracy {:.2f}%'.format(test_score[0], test_score[1] * 100))"
      ],
      "metadata": {
        "id": "3lKSAQw-OTld"
      },
      "execution_count": null,
      "outputs": []
    },
    {
      "cell_type": "code",
      "execution_count": null,
      "metadata": {
        "id": "Pwg7eczYYI_Z",
        "colab": {
          "base_uri": "https://localhost:8080/",
          "height": 513
        },
        "outputId": "b399602c-59f1-48e5-e14e-87cca2e7058e"
      },
      "outputs": [
        {
          "output_type": "display_data",
          "data": {
            "text/plain": [
              "<Figure size 1080x576 with 1 Axes>"
            ],
            "image/png": "[encoded data removed]"
          },
          "metadata": {
            "needs_background": "light"
          }
        }
      ],
      "source": [
        "# visualizing the results\n",
        "\n",
        "plt.rcParams['figure.figsize'] = (15, 8)\n",
        "\n",
        "plt.plot(test_stock, color = 'red', label = 'Real  Stock ')\n",
        "plt.plot(prediction, color = 'green', label = 'Predicted  Stock ')\n",
        "plt.title('Final Stock Prediction')\n",
        "plt.xlabel('Time')\n",
        "plt.ylabel('Meta Stock Price')\n",
        "plt.legend()\n",
        "plt.show()"
      ]
    },
    {
      "cell_type": "markdown",
      "source": [
        "SGD"
      ],
      "metadata": {
        "id": "ROVf969A4C6H"
      }
    },
    {
      "cell_type": "code",
      "execution_count": null,
      "metadata": {
        "id": "X35PsqZh8W0x"
      },
      "outputs": [],
      "source": [
        "# Create model using LSTM, Dropout and Dense layer as an output layer.\n",
        "#Initializing the RNN\n",
        "regressor1 = Sequential()\n",
        "regressor1.add(LSTM(units = 50,return_sequences = True,input_shape = (x_train.shape[1],1)))\n",
        "regressor1.add(Dropout(0.2))"
      ]
    },
    {
      "cell_type": "code",
      "execution_count": null,
      "metadata": {
        "id": "Ua39egwM8W0y"
      },
      "outputs": [],
      "source": [
        "# Adding second hidden layer\n",
        "regressor1.add(LSTM(units = 50,return_sequences = True))\n",
        "regressor1.add(Dropout(0.2))"
      ]
    },
    {
      "cell_type": "code",
      "execution_count": null,
      "metadata": {
        "id": "ixnCfklY8W0z"
      },
      "outputs": [],
      "source": [
        "# Adding third hidden layer\n",
        "regressor1.add(LSTM(units = 50,return_sequences = True))\n",
        "regressor1.add(Dropout(0.2))"
      ]
    },
    {
      "cell_type": "code",
      "execution_count": null,
      "metadata": {
        "id": "_zB6iX4N8W0z"
      },
      "outputs": [],
      "source": [
        "#Adding fourth hidden layer\n",
        "regressor1.add(LSTM(units = 50))\n",
        "regressor1.add(Dropout(0.2))"
      ]
    },
    {
      "cell_type": "code",
      "execution_count": null,
      "metadata": {
        "id": "JuZcE-Vf8W0z"
      },
      "outputs": [],
      "source": [
        "# Adding dense layer to get the final output. The input of n-1 layer, will be the output for n layer.\n",
        "regressor1.add(Dense(units = 1))"
      ]
    },
    {
      "cell_type": "code",
      "execution_count": null,
      "metadata": {
        "id": "QqxmD1D64E7J"
      },
      "outputs": [],
      "source": [
        "regressor1.compile(optimizer = 'sgd',loss = 'mse')"
      ]
    },
    {
      "cell_type": "code",
      "execution_count": null,
      "metadata": {
        "id": "dCHgXyl34E7K"
      },
      "outputs": [],
      "source": [
        "# Train the model\n",
        "regressor1.fit(x_train,y_train,epochs = 100, batch_size = 32)"
      ]
    },
    {
      "cell_type": "code",
      "execution_count": null,
      "metadata": {
        "id": "rLvb534C4E7M",
        "colab": {
          "base_uri": "https://localhost:8080/"
        },
        "outputId": "2cd9157e-c53a-4434-b000-78f6499f6e38"
      },
      "outputs": [
        {
          "output_type": "execute_result",
          "data": {
            "text/plain": [
              "2720"
            ]
          },
          "metadata": {},
          "execution_count": 37
        }
      ],
      "source": [
        "test_data = pd.read_csv('/content/drive/MyDrive/Datasets/META.csv')\n",
        "test_stock = test_data.iloc[:,1:2]\n",
        "len(test_stock)"
      ]
    },
    {
      "cell_type": "code",
      "execution_count": null,
      "metadata": {
        "id": "8P5eKHIv4E7N"
      },
      "outputs": [],
      "source": [
        "input_value = test_stock\n",
        "input_value = mm.transform(input_value)\n",
        "# perfor the same process, converting a 2D array to 3D\n",
        "input_value = np.reshape(input_value, (2720 , 1, 1))"
      ]
    },
    {
      "cell_type": "code",
      "execution_count": null,
      "metadata": {
        "id": "vYcA2-TO4E7N",
        "colab": {
          "base_uri": "https://localhost:8080/"
        },
        "outputId": "1172d186-5662-47c7-a929-a1afbbd3c9e9"
      },
      "outputs": [
        {
          "output_type": "stream",
          "name": "stdout",
          "text": [
            "85/85 [==============================] - 2s 2ms/step\n"
          ]
        },
        {
          "output_type": "execute_result",
          "data": {
            "text/plain": [
              "array([[78.09003 ],\n",
              "       [78.09035 ],\n",
              "       [78.090576],\n",
              "       ...,\n",
              "       [78.08147 ],\n",
              "       [78.081245],\n",
              "       [78.08158 ]], dtype=float32)"
            ]
          },
          "metadata": {},
          "execution_count": 39
        }
      ],
      "source": [
        "prediction = regressor1.predict(input_value)\n",
        "prediction = mm.inverse_transform(prediction)\n",
        "prediction"
      ]
    },
    {
      "cell_type": "code",
      "execution_count": null,
      "metadata": {
        "id": "fcPcNXW34E7O"
      },
      "outputs": [],
      "source": [
        "# visualizing the results\n",
        "\n",
        "plt.rcParams['figure.figsize'] = (15, 8)\n",
        "\n",
        "plt.plot(test_stock, color = 'red', label = 'Real  Stock ')\n",
        "plt.plot(prediction, color = 'green', label = 'Predicted  Stock ')\n",
        "plt.title('Final Stock Prediction')\n",
        "plt.xlabel('Time')\n",
        "plt.ylabel('Google Stock Price')\n",
        "plt.legend()\n",
        "plt.show()"
      ]
    }
  ],
  "metadata": {
    "kernelspec": {
      "display_name": "Python 3",
      "language": "python",
      "name": "python3"
    },
    "language_info": {
      "codemirror_mode": {
        "name": "ipython",
        "version": 3
      },
      "file_extension": ".py",
      "mimetype": "text/x-python",
      "name": "python",
      "nbconvert_exporter": "python",
      "pygments_lexer": "ipython3",
      "version": "3.6.4"
    },
    "colab": {
      "provenance": []
    }
  },
  "nbformat": 4,
  "nbformat_minor": 0
}