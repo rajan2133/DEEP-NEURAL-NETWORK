{
  "nbformat": 4,
  "nbformat_minor": 0,
  "metadata": {
    "kernelspec": {
      "display_name": "Python 3",
      "language": "python",
      "name": "python3"
    },
    "language_info": {
      "codemirror_mode": {
        "name": "ipython",
        "version": 3
      },
      "file_extension": ".py",
      "mimetype": "text/x-python",
      "name": "python",
      "nbconvert_exporter": "python",
      "pygments_lexer": "ipython3",
      "version": "3.6.4"
    },
    "colab": {
      "provenance": []
    },
    "accelerator": "GPU"
  },
  "cells": [
    {
      "cell_type": "markdown",
      "metadata": {
        "id": "a5gHr-6g_kAz"
      },
      "source": [
        "## Download Data Set & Normalize"
      ]
    },
    {
      "cell_type": "code",
      "metadata": {
        "id": "W9qhq6NN_kA2"
      },
      "source": [
        "from keras.datasets import mnist\n",
        "from keras.utils import np_utils"
      ],
      "execution_count": null,
      "outputs": []
    },
    {
      "cell_type": "code",
      "metadata": {
        "colab": {
          "base_uri": "https://localhost:8080/"
        },
        "id": "oMIpJCDZk8dI",
        "outputId": "e8be818b-3295-490c-b48f-015df02e39ad"
      },
      "source": [
        "# Load dataset as train and test sets\n",
        "(x_train, y_train), (x_test, y_test) = mnist.load_data()"
      ],
      "execution_count": null,
      "outputs": [
        {
          "output_type": "stream",
          "name": "stdout",
          "text": [
            "Downloading data from https://storage.googleapis.com/tensorflow/tf-keras-datasets/mnist.npz\n",
            "11490434/11490434 [==============================] - 2s 0us/step\n"
          ]
        }
      ]
    },
    {
      "cell_type": "code",
      "metadata": {
        "colab": {
          "base_uri": "https://localhost:8080/"
        },
        "id": "QahJ-Qu3lAcQ",
        "outputId": "fa0c56cb-54ed-4d73-f942-eafdf1a1d5e1"
      },
      "source": [
        "y_train"
      ],
      "execution_count": null,
      "outputs": [
        {
          "output_type": "execute_result",
          "data": {
            "text/plain": [
              "array([5, 0, 4, ..., 5, 6, 8], dtype=uint8)"
            ]
          },
          "metadata": {},
          "execution_count": 5
        }
      ]
    },
    {
      "cell_type": "code",
      "metadata": {
        "colab": {
          "base_uri": "https://localhost:8080/"
        },
        "id": "f_Vkf2y8lGl9",
        "outputId": "92caab16-75cb-49de-b6ef-48506dcb4b2c"
      },
      "source": [
        "y_test"
      ],
      "execution_count": null,
      "outputs": [
        {
          "output_type": "execute_result",
          "data": {
            "text/plain": [
              "array([7, 2, 1, ..., 4, 5, 6], dtype=uint8)"
            ]
          },
          "metadata": {},
          "execution_count": 6
        }
      ]
    },
    {
      "cell_type": "code",
      "metadata": {
        "id": "VUcXNzr8lFg-"
      },
      "source": [
        "# Set numeric type to float32 from uint8\n",
        "x_train = x_train.astype('float32')\n",
        "x_test = x_test.astype('float32')"
      ],
      "execution_count": null,
      "outputs": []
    },
    {
      "cell_type": "code",
      "metadata": {
        "colab": {
          "base_uri": "https://localhost:8080/"
        },
        "id": "q3DIgXjMlTGz",
        "outputId": "7f150f30-a98e-48d0-d710-064c5161fa52"
      },
      "source": [
        "x_test"
      ],
      "execution_count": null,
      "outputs": [
        {
          "output_type": "execute_result",
          "data": {
            "text/plain": [
              "array([[[0., 0., 0., ..., 0., 0., 0.],\n",
              "        [0., 0., 0., ..., 0., 0., 0.],\n",
              "        [0., 0., 0., ..., 0., 0., 0.],\n",
              "        ...,\n",
              "        [0., 0., 0., ..., 0., 0., 0.],\n",
              "        [0., 0., 0., ..., 0., 0., 0.],\n",
              "        [0., 0., 0., ..., 0., 0., 0.]],\n",
              "\n",
              "       [[0., 0., 0., ..., 0., 0., 0.],\n",
              "        [0., 0., 0., ..., 0., 0., 0.],\n",
              "        [0., 0., 0., ..., 0., 0., 0.],\n",
              "        ...,\n",
              "        [0., 0., 0., ..., 0., 0., 0.],\n",
              "        [0., 0., 0., ..., 0., 0., 0.],\n",
              "        [0., 0., 0., ..., 0., 0., 0.]],\n",
              "\n",
              "       [[0., 0., 0., ..., 0., 0., 0.],\n",
              "        [0., 0., 0., ..., 0., 0., 0.],\n",
              "        [0., 0., 0., ..., 0., 0., 0.],\n",
              "        ...,\n",
              "        [0., 0., 0., ..., 0., 0., 0.],\n",
              "        [0., 0., 0., ..., 0., 0., 0.],\n",
              "        [0., 0., 0., ..., 0., 0., 0.]],\n",
              "\n",
              "       ...,\n",
              "\n",
              "       [[0., 0., 0., ..., 0., 0., 0.],\n",
              "        [0., 0., 0., ..., 0., 0., 0.],\n",
              "        [0., 0., 0., ..., 0., 0., 0.],\n",
              "        ...,\n",
              "        [0., 0., 0., ..., 0., 0., 0.],\n",
              "        [0., 0., 0., ..., 0., 0., 0.],\n",
              "        [0., 0., 0., ..., 0., 0., 0.]],\n",
              "\n",
              "       [[0., 0., 0., ..., 0., 0., 0.],\n",
              "        [0., 0., 0., ..., 0., 0., 0.],\n",
              "        [0., 0., 0., ..., 0., 0., 0.],\n",
              "        ...,\n",
              "        [0., 0., 0., ..., 0., 0., 0.],\n",
              "        [0., 0., 0., ..., 0., 0., 0.],\n",
              "        [0., 0., 0., ..., 0., 0., 0.]],\n",
              "\n",
              "       [[0., 0., 0., ..., 0., 0., 0.],\n",
              "        [0., 0., 0., ..., 0., 0., 0.],\n",
              "        [0., 0., 0., ..., 0., 0., 0.],\n",
              "        ...,\n",
              "        [0., 0., 0., ..., 0., 0., 0.],\n",
              "        [0., 0., 0., ..., 0., 0., 0.],\n",
              "        [0., 0., 0., ..., 0., 0., 0.]]], dtype=float32)"
            ]
          },
          "metadata": {},
          "execution_count": 8
        }
      ]
    },
    {
      "cell_type": "code",
      "metadata": {
        "colab": {
          "base_uri": "https://localhost:8080/"
        },
        "id": "rSSQtgIflQ3y",
        "outputId": "949f1228-8b3d-4e47-e262-84c1df7a89b6"
      },
      "source": [
        "x_train"
      ],
      "execution_count": null,
      "outputs": [
        {
          "output_type": "execute_result",
          "data": {
            "text/plain": [
              "array([[[0., 0., 0., ..., 0., 0., 0.],\n",
              "        [0., 0., 0., ..., 0., 0., 0.],\n",
              "        [0., 0., 0., ..., 0., 0., 0.],\n",
              "        ...,\n",
              "        [0., 0., 0., ..., 0., 0., 0.],\n",
              "        [0., 0., 0., ..., 0., 0., 0.],\n",
              "        [0., 0., 0., ..., 0., 0., 0.]],\n",
              "\n",
              "       [[0., 0., 0., ..., 0., 0., 0.],\n",
              "        [0., 0., 0., ..., 0., 0., 0.],\n",
              "        [0., 0., 0., ..., 0., 0., 0.],\n",
              "        ...,\n",
              "        [0., 0., 0., ..., 0., 0., 0.],\n",
              "        [0., 0., 0., ..., 0., 0., 0.],\n",
              "        [0., 0., 0., ..., 0., 0., 0.]],\n",
              "\n",
              "       [[0., 0., 0., ..., 0., 0., 0.],\n",
              "        [0., 0., 0., ..., 0., 0., 0.],\n",
              "        [0., 0., 0., ..., 0., 0., 0.],\n",
              "        ...,\n",
              "        [0., 0., 0., ..., 0., 0., 0.],\n",
              "        [0., 0., 0., ..., 0., 0., 0.],\n",
              "        [0., 0., 0., ..., 0., 0., 0.]],\n",
              "\n",
              "       ...,\n",
              "\n",
              "       [[0., 0., 0., ..., 0., 0., 0.],\n",
              "        [0., 0., 0., ..., 0., 0., 0.],\n",
              "        [0., 0., 0., ..., 0., 0., 0.],\n",
              "        ...,\n",
              "        [0., 0., 0., ..., 0., 0., 0.],\n",
              "        [0., 0., 0., ..., 0., 0., 0.],\n",
              "        [0., 0., 0., ..., 0., 0., 0.]],\n",
              "\n",
              "       [[0., 0., 0., ..., 0., 0., 0.],\n",
              "        [0., 0., 0., ..., 0., 0., 0.],\n",
              "        [0., 0., 0., ..., 0., 0., 0.],\n",
              "        ...,\n",
              "        [0., 0., 0., ..., 0., 0., 0.],\n",
              "        [0., 0., 0., ..., 0., 0., 0.],\n",
              "        [0., 0., 0., ..., 0., 0., 0.]],\n",
              "\n",
              "       [[0., 0., 0., ..., 0., 0., 0.],\n",
              "        [0., 0., 0., ..., 0., 0., 0.],\n",
              "        [0., 0., 0., ..., 0., 0., 0.],\n",
              "        ...,\n",
              "        [0., 0., 0., ..., 0., 0., 0.],\n",
              "        [0., 0., 0., ..., 0., 0., 0.],\n",
              "        [0., 0., 0., ..., 0., 0., 0.]]], dtype=float32)"
            ]
          },
          "metadata": {},
          "execution_count": 9
        }
      ]
    },
    {
      "cell_type": "code",
      "metadata": {
        "id": "X2XFd4oXlZr2"
      },
      "source": [
        "# Normalize value to [0, 1]\n",
        "x_train /= 255\n",
        "x_test /= 255"
      ],
      "execution_count": null,
      "outputs": []
    },
    {
      "cell_type": "code",
      "metadata": {
        "colab": {
          "base_uri": "https://localhost:8080/"
        },
        "id": "j1R6I1D1ld1g",
        "outputId": "cc4b2560-7d82-4ccf-9d42-4c388d03cc7d"
      },
      "source": [
        "x_test"
      ],
      "execution_count": null,
      "outputs": [
        {
          "output_type": "execute_result",
          "data": {
            "text/plain": [
              "array([[[0., 0., 0., ..., 0., 0., 0.],\n",
              "        [0., 0., 0., ..., 0., 0., 0.],\n",
              "        [0., 0., 0., ..., 0., 0., 0.],\n",
              "        ...,\n",
              "        [0., 0., 0., ..., 0., 0., 0.],\n",
              "        [0., 0., 0., ..., 0., 0., 0.],\n",
              "        [0., 0., 0., ..., 0., 0., 0.]],\n",
              "\n",
              "       [[0., 0., 0., ..., 0., 0., 0.],\n",
              "        [0., 0., 0., ..., 0., 0., 0.],\n",
              "        [0., 0., 0., ..., 0., 0., 0.],\n",
              "        ...,\n",
              "        [0., 0., 0., ..., 0., 0., 0.],\n",
              "        [0., 0., 0., ..., 0., 0., 0.],\n",
              "        [0., 0., 0., ..., 0., 0., 0.]],\n",
              "\n",
              "       [[0., 0., 0., ..., 0., 0., 0.],\n",
              "        [0., 0., 0., ..., 0., 0., 0.],\n",
              "        [0., 0., 0., ..., 0., 0., 0.],\n",
              "        ...,\n",
              "        [0., 0., 0., ..., 0., 0., 0.],\n",
              "        [0., 0., 0., ..., 0., 0., 0.],\n",
              "        [0., 0., 0., ..., 0., 0., 0.]],\n",
              "\n",
              "       ...,\n",
              "\n",
              "       [[0., 0., 0., ..., 0., 0., 0.],\n",
              "        [0., 0., 0., ..., 0., 0., 0.],\n",
              "        [0., 0., 0., ..., 0., 0., 0.],\n",
              "        ...,\n",
              "        [0., 0., 0., ..., 0., 0., 0.],\n",
              "        [0., 0., 0., ..., 0., 0., 0.],\n",
              "        [0., 0., 0., ..., 0., 0., 0.]],\n",
              "\n",
              "       [[0., 0., 0., ..., 0., 0., 0.],\n",
              "        [0., 0., 0., ..., 0., 0., 0.],\n",
              "        [0., 0., 0., ..., 0., 0., 0.],\n",
              "        ...,\n",
              "        [0., 0., 0., ..., 0., 0., 0.],\n",
              "        [0., 0., 0., ..., 0., 0., 0.],\n",
              "        [0., 0., 0., ..., 0., 0., 0.]],\n",
              "\n",
              "       [[0., 0., 0., ..., 0., 0., 0.],\n",
              "        [0., 0., 0., ..., 0., 0., 0.],\n",
              "        [0., 0., 0., ..., 0., 0., 0.],\n",
              "        ...,\n",
              "        [0., 0., 0., ..., 0., 0., 0.],\n",
              "        [0., 0., 0., ..., 0., 0., 0.],\n",
              "        [0., 0., 0., ..., 0., 0., 0.]]], dtype=float32)"
            ]
          },
          "metadata": {},
          "execution_count": 11
        }
      ]
    },
    {
      "cell_type": "code",
      "metadata": {
        "colab": {
          "base_uri": "https://localhost:8080/"
        },
        "id": "8cahHPxxlbr9",
        "outputId": "f62486d2-6d12-465f-860a-9ec88478d956"
      },
      "source": [
        "x_train"
      ],
      "execution_count": null,
      "outputs": [
        {
          "output_type": "execute_result",
          "data": {
            "text/plain": [
              "array([[[0., 0., 0., ..., 0., 0., 0.],\n",
              "        [0., 0., 0., ..., 0., 0., 0.],\n",
              "        [0., 0., 0., ..., 0., 0., 0.],\n",
              "        ...,\n",
              "        [0., 0., 0., ..., 0., 0., 0.],\n",
              "        [0., 0., 0., ..., 0., 0., 0.],\n",
              "        [0., 0., 0., ..., 0., 0., 0.]],\n",
              "\n",
              "       [[0., 0., 0., ..., 0., 0., 0.],\n",
              "        [0., 0., 0., ..., 0., 0., 0.],\n",
              "        [0., 0., 0., ..., 0., 0., 0.],\n",
              "        ...,\n",
              "        [0., 0., 0., ..., 0., 0., 0.],\n",
              "        [0., 0., 0., ..., 0., 0., 0.],\n",
              "        [0., 0., 0., ..., 0., 0., 0.]],\n",
              "\n",
              "       [[0., 0., 0., ..., 0., 0., 0.],\n",
              "        [0., 0., 0., ..., 0., 0., 0.],\n",
              "        [0., 0., 0., ..., 0., 0., 0.],\n",
              "        ...,\n",
              "        [0., 0., 0., ..., 0., 0., 0.],\n",
              "        [0., 0., 0., ..., 0., 0., 0.],\n",
              "        [0., 0., 0., ..., 0., 0., 0.]],\n",
              "\n",
              "       ...,\n",
              "\n",
              "       [[0., 0., 0., ..., 0., 0., 0.],\n",
              "        [0., 0., 0., ..., 0., 0., 0.],\n",
              "        [0., 0., 0., ..., 0., 0., 0.],\n",
              "        ...,\n",
              "        [0., 0., 0., ..., 0., 0., 0.],\n",
              "        [0., 0., 0., ..., 0., 0., 0.],\n",
              "        [0., 0., 0., ..., 0., 0., 0.]],\n",
              "\n",
              "       [[0., 0., 0., ..., 0., 0., 0.],\n",
              "        [0., 0., 0., ..., 0., 0., 0.],\n",
              "        [0., 0., 0., ..., 0., 0., 0.],\n",
              "        ...,\n",
              "        [0., 0., 0., ..., 0., 0., 0.],\n",
              "        [0., 0., 0., ..., 0., 0., 0.],\n",
              "        [0., 0., 0., ..., 0., 0., 0.]],\n",
              "\n",
              "       [[0., 0., 0., ..., 0., 0., 0.],\n",
              "        [0., 0., 0., ..., 0., 0., 0.],\n",
              "        [0., 0., 0., ..., 0., 0., 0.],\n",
              "        ...,\n",
              "        [0., 0., 0., ..., 0., 0., 0.],\n",
              "        [0., 0., 0., ..., 0., 0., 0.],\n",
              "        [0., 0., 0., ..., 0., 0., 0.]]], dtype=float32)"
            ]
          },
          "metadata": {},
          "execution_count": 12
        }
      ]
    },
    {
      "cell_type": "code",
      "metadata": {
        "id": "VPrxC5PslmnF"
      },
      "source": [
        "# Transform lables to one-hot encoding\n",
        "y_train = np_utils.to_categorical(y_train, 10)\n",
        "y_test = np_utils.to_categorical(y_test, 10)"
      ],
      "execution_count": null,
      "outputs": []
    },
    {
      "cell_type": "code",
      "metadata": {
        "colab": {
          "base_uri": "https://localhost:8080/"
        },
        "id": "IZkNj-EMlqtx",
        "outputId": "431d0909-ec05-47fd-a628-8e8824b3fb98"
      },
      "source": [
        "y_test"
      ],
      "execution_count": null,
      "outputs": [
        {
          "output_type": "execute_result",
          "data": {
            "text/plain": [
              "array([[0., 0., 0., ..., 1., 0., 0.],\n",
              "       [0., 0., 1., ..., 0., 0., 0.],\n",
              "       [0., 1., 0., ..., 0., 0., 0.],\n",
              "       ...,\n",
              "       [0., 0., 0., ..., 0., 0., 0.],\n",
              "       [0., 0., 0., ..., 0., 0., 0.],\n",
              "       [0., 0., 0., ..., 0., 0., 0.]], dtype=float32)"
            ]
          },
          "metadata": {},
          "execution_count": 14
        }
      ]
    },
    {
      "cell_type": "code",
      "metadata": {
        "colab": {
          "base_uri": "https://localhost:8080/"
        },
        "id": "iMZOi82flofB",
        "outputId": "4c65847f-251c-401f-c810-29ccdd263c8b"
      },
      "source": [
        "y_train"
      ],
      "execution_count": null,
      "outputs": [
        {
          "output_type": "execute_result",
          "data": {
            "text/plain": [
              "array([[0., 0., 0., ..., 0., 0., 0.],\n",
              "       [1., 0., 0., ..., 0., 0., 0.],\n",
              "       [0., 0., 0., ..., 0., 0., 0.],\n",
              "       ...,\n",
              "       [0., 0., 0., ..., 0., 0., 0.],\n",
              "       [0., 0., 0., ..., 0., 0., 0.],\n",
              "       [0., 0., 0., ..., 0., 1., 0.]], dtype=float32)"
            ]
          },
          "metadata": {},
          "execution_count": 15
        }
      ]
    },
    {
      "cell_type": "code",
      "metadata": {
        "id": "1JPM9YYalwGx"
      },
      "source": [
        "# Reshape the dataset into 4D array\n",
        "x_train = x_train.reshape(x_train.shape[0], 28,28,1)\n",
        "x_test = x_test.reshape(x_test.shape[0], 28,28,1)"
      ],
      "execution_count": null,
      "outputs": []
    },
    {
      "cell_type": "code",
      "metadata": {
        "id": "6DcwzdTO_kA4"
      },
      "source": [
        "# Load dataset as train and test sets\n",
        "(x_train, y_train), (x_test, y_test) = mnist.load_data()\n",
        "\n",
        "# Set numeric type to float32 from uint8\n",
        "x_train = x_train.astype('float32')\n",
        "x_test = x_test.astype('float32')\n",
        "\n",
        "# Normalize value to [0, 1]\n",
        "x_train /= 255\n",
        "x_test /= 255\n",
        "\n",
        "# Transform lables to one-hot encoding\n",
        "y_train = np_utils.to_categorical(y_train, 10)\n",
        "y_test = np_utils.to_categorical(y_test, 10)\n",
        "\n",
        "# Reshape the dataset into 4D array\n",
        "x_train = x_train.reshape(x_train.shape[0], 28,28,1)\n",
        "x_test = x_test.reshape(x_test.shape[0], 28,28,1)"
      ],
      "execution_count": null,
      "outputs": []
    },
    {
      "cell_type": "code",
      "metadata": {
        "colab": {
          "base_uri": "https://localhost:8080/"
        },
        "id": "J4C8hmwFrve9",
        "outputId": "448aba41-a421-4f06-86b5-a6664a650c94"
      },
      "source": [
        "y_train.shape"
      ],
      "execution_count": null,
      "outputs": [
        {
          "output_type": "execute_result",
          "data": {
            "text/plain": [
              "(60000, 10)"
            ]
          },
          "metadata": {},
          "execution_count": 18
        }
      ]
    },
    {
      "cell_type": "markdown",
      "metadata": {
        "id": "Fbvl_B7g_kA5"
      },
      "source": [
        "## Define LeNet-5 Model"
      ]
    },
    {
      "cell_type": "code",
      "metadata": {
        "id": "GuEZZapQ_kA6"
      },
      "source": [
        "from keras.models import Sequential\n",
        "from keras import models, layers\n",
        "import keras"
      ],
      "execution_count": null,
      "outputs": []
    },
    {
      "cell_type": "code",
      "metadata": {
        "id": "oNB88Axw_kA6"
      },
      "source": [
        "#Instantiate an empty model\n",
        "model = Sequential()\n",
        "\n",
        "# C1 Convolutional Layer\n",
        "model.add(layers.Conv2D(6, kernel_size=(5, 5), strides=(1, 1), activation='tanh', input_shape=(28,28,1), padding='same'))\n",
        "\n",
        "# S2 Pooling Layer\n",
        "model.add(layers.AveragePooling2D(pool_size=(2, 2), strides=(1, 1), padding='valid'))\n",
        "\n",
        "# C3 Convolutional Layer\n",
        "model.add(layers.Conv2D(16, kernel_size=(5, 5), strides=(1, 1), activation='tanh', padding='valid'))\n",
        "\n",
        "# S4 Pooling Layer\n",
        "model.add(layers.AveragePooling2D(pool_size=(2, 2), strides=(2, 2), padding='valid'))\n",
        "\n",
        "# C5 Fully Connected Convolutional Layer\n",
        "model.add(layers.Conv2D(120, kernel_size=(5, 5), strides=(1, 1), activation='tanh', padding='valid'))\n",
        "#Flatten the CNN output so that we can connect it with fully connected layers\n",
        "model.add(layers.Flatten())\n",
        "\n",
        "# FC6 Fully Connected Layer\n",
        "model.add(layers.Dense(84, activation='tanh'))\n",
        "\n",
        "#Output Layer with softmax activation\n",
        "model.add(layers.Dense(10, activation='softmax'))\n",
        "\n",
        "# Compile the model\n",
        "model.compile(loss=keras.losses.categorical_crossentropy, optimizer='SGD', metrics=['accuracy'])"
      ],
      "execution_count": null,
      "outputs": []
    },
    {
      "cell_type": "code",
      "metadata": {
        "colab": {
          "base_uri": "https://localhost:8080/"
        },
        "id": "fXW1Xd_np-mU",
        "outputId": "af11940f-0556-4c3c-d27c-13a92621d1a7"
      },
      "source": [
        "model.summary()"
      ],
      "execution_count": null,
      "outputs": [
        {
          "output_type": "stream",
          "name": "stdout",
          "text": [
            "Model: \"sequential\"\n",
            "_________________________________________________________________\n",
            " Layer (type)                Output Shape              Param #   \n",
            "=================================================================\n",
            " conv2d (Conv2D)             (None, 28, 28, 6)         156       \n",
            "                                                                 \n",
            " average_pooling2d (AverageP  (None, 27, 27, 6)        0         \n",
            " ooling2D)                                                       \n",
            "                                                                 \n",
            " conv2d_1 (Conv2D)           (None, 23, 23, 16)        2416      \n",
            "                                                                 \n",
            " average_pooling2d_1 (Averag  (None, 11, 11, 16)       0         \n",
            " ePooling2D)                                                     \n",
            "                                                                 \n",
            " conv2d_2 (Conv2D)           (None, 7, 7, 120)         48120     \n",
            "                                                                 \n",
            " flatten (Flatten)           (None, 5880)              0         \n",
            "                                                                 \n",
            " dense (Dense)               (None, 84)                494004    \n",
            "                                                                 \n",
            " dense_1 (Dense)             (None, 10)                850       \n",
            "                                                                 \n",
            "=================================================================\n",
            "Total params: 545,546\n",
            "Trainable params: 545,546\n",
            "Non-trainable params: 0\n",
            "_________________________________________________________________\n"
          ]
        }
      ]
    },
    {
      "cell_type": "code",
      "metadata": {
        "id": "dreBU8XHuPHv"
      },
      "source": [
        "import tensorflow as tf"
      ],
      "execution_count": null,
      "outputs": []
    },
    {
      "cell_type": "markdown",
      "metadata": {
        "id": "RqblHXnuVWmZ"
      },
      "source": [
        "https://keras.io/api/callbacks/"
      ]
    },
    {
      "cell_type": "code",
      "metadata": {
        "id": "qfljWIPL_kA7",
        "colab": {
          "base_uri": "https://localhost:8080/"
        },
        "outputId": "52484c82-f073-4e78-83e2-f584536d2a1f"
      },
      "source": [
        "my_callbacks = [\n",
        "    tf.keras.callbacks.EarlyStopping(patience=5),\n",
        "    tf.keras.callbacks.ModelCheckpoint(filepath='model.{epoch:02d}-{val_loss:.2f}.h5'),\n",
        "    tf.keras.callbacks.TensorBoard(log_dir='./logs'),\n",
        "]\n",
        "hist = model.fit(x=x_train,y=y_train, callbacks=my_callbacks, epochs=100, batch_size=128, validation_data=(x_test, y_test), verbose=1)"
      ],
      "execution_count": null,
      "outputs": [
        {
          "output_type": "stream",
          "name": "stdout",
          "text": [
            "Epoch 1/100\n",
            "469/469 [==============================] - 15s 8ms/step - loss: 0.7195 - accuracy: 0.8142 - val_loss: 0.3578 - val_accuracy: 0.8999\n",
            "Epoch 2/100\n",
            "469/469 [==============================] - 3s 5ms/step - loss: 0.3281 - accuracy: 0.9061 - val_loss: 0.2774 - val_accuracy: 0.9213\n",
            "Epoch 3/100\n",
            "469/469 [==============================] - 3s 5ms/step - loss: 0.2673 - accuracy: 0.9236 - val_loss: 0.2351 - val_accuracy: 0.9333\n",
            "Epoch 4/100\n",
            "469/469 [==============================] - 3s 6ms/step - loss: 0.2307 - accuracy: 0.9340 - val_loss: 0.2082 - val_accuracy: 0.9407\n",
            "Epoch 5/100\n",
            "469/469 [==============================] - 3s 6ms/step - loss: 0.2047 - accuracy: 0.9420 - val_loss: 0.1863 - val_accuracy: 0.9477\n",
            "Epoch 6/100\n",
            "469/469 [==============================] - 3s 6ms/step - loss: 0.1844 - accuracy: 0.9482 - val_loss: 0.1707 - val_accuracy: 0.9523\n",
            "Epoch 7/100\n",
            "469/469 [==============================] - 3s 6ms/step - loss: 0.1682 - accuracy: 0.9527 - val_loss: 0.1573 - val_accuracy: 0.9557\n",
            "Epoch 8/100\n",
            "469/469 [==============================] - 3s 5ms/step - loss: 0.1546 - accuracy: 0.9568 - val_loss: 0.1461 - val_accuracy: 0.9587\n",
            "Epoch 9/100\n",
            "469/469 [==============================] - 3s 6ms/step - loss: 0.1427 - accuracy: 0.9601 - val_loss: 0.1376 - val_accuracy: 0.9612\n",
            "Epoch 10/100\n",
            "469/469 [==============================] - 3s 7ms/step - loss: 0.1325 - accuracy: 0.9632 - val_loss: 0.1274 - val_accuracy: 0.9637\n",
            "Epoch 11/100\n",
            "469/469 [==============================] - 3s 6ms/step - loss: 0.1235 - accuracy: 0.9657 - val_loss: 0.1206 - val_accuracy: 0.9662\n",
            "Epoch 12/100\n",
            "469/469 [==============================] - 3s 6ms/step - loss: 0.1155 - accuracy: 0.9681 - val_loss: 0.1130 - val_accuracy: 0.9683\n",
            "Epoch 13/100\n",
            "469/469 [==============================] - 3s 6ms/step - loss: 0.1084 - accuracy: 0.9705 - val_loss: 0.1072 - val_accuracy: 0.9695\n",
            "Epoch 14/100\n",
            "469/469 [==============================] - 3s 6ms/step - loss: 0.1021 - accuracy: 0.9721 - val_loss: 0.1024 - val_accuracy: 0.9705\n",
            "Epoch 15/100\n",
            "469/469 [==============================] - 3s 6ms/step - loss: 0.0963 - accuracy: 0.9741 - val_loss: 0.0972 - val_accuracy: 0.9721\n",
            "Epoch 16/100\n",
            "469/469 [==============================] - 3s 5ms/step - loss: 0.0911 - accuracy: 0.9751 - val_loss: 0.0925 - val_accuracy: 0.9736\n",
            "Epoch 17/100\n",
            "469/469 [==============================] - 3s 6ms/step - loss: 0.0863 - accuracy: 0.9764 - val_loss: 0.0892 - val_accuracy: 0.9746\n",
            "Epoch 18/100\n",
            "469/469 [==============================] - 3s 6ms/step - loss: 0.0822 - accuracy: 0.9779 - val_loss: 0.0856 - val_accuracy: 0.9749\n",
            "Epoch 19/100\n",
            "469/469 [==============================] - 3s 7ms/step - loss: 0.0781 - accuracy: 0.9794 - val_loss: 0.0821 - val_accuracy: 0.9759\n",
            "Epoch 20/100\n",
            "469/469 [==============================] - 3s 6ms/step - loss: 0.0746 - accuracy: 0.9802 - val_loss: 0.0802 - val_accuracy: 0.9769\n",
            "Epoch 21/100\n",
            "469/469 [==============================] - 3s 6ms/step - loss: 0.0712 - accuracy: 0.9813 - val_loss: 0.0773 - val_accuracy: 0.9776\n",
            "Epoch 22/100\n",
            "469/469 [==============================] - 3s 6ms/step - loss: 0.0682 - accuracy: 0.9820 - val_loss: 0.0739 - val_accuracy: 0.9781\n",
            "Epoch 23/100\n",
            "469/469 [==============================] - 3s 7ms/step - loss: 0.0653 - accuracy: 0.9830 - val_loss: 0.0719 - val_accuracy: 0.9794\n",
            "Epoch 24/100\n",
            "469/469 [==============================] - 3s 6ms/step - loss: 0.0627 - accuracy: 0.9840 - val_loss: 0.0694 - val_accuracy: 0.9801\n",
            "Epoch 25/100\n",
            "469/469 [==============================] - 3s 6ms/step - loss: 0.0601 - accuracy: 0.9846 - val_loss: 0.0681 - val_accuracy: 0.9800\n",
            "Epoch 26/100\n",
            "469/469 [==============================] - 3s 6ms/step - loss: 0.0579 - accuracy: 0.9850 - val_loss: 0.0658 - val_accuracy: 0.9806\n",
            "Epoch 27/100\n",
            "469/469 [==============================] - 3s 6ms/step - loss: 0.0557 - accuracy: 0.9858 - val_loss: 0.0645 - val_accuracy: 0.9804\n",
            "Epoch 28/100\n",
            "469/469 [==============================] - 3s 6ms/step - loss: 0.0536 - accuracy: 0.9863 - val_loss: 0.0633 - val_accuracy: 0.9812\n",
            "Epoch 29/100\n",
            "469/469 [==============================] - 3s 6ms/step - loss: 0.0517 - accuracy: 0.9869 - val_loss: 0.0612 - val_accuracy: 0.9816\n",
            "Epoch 30/100\n",
            "469/469 [==============================] - 3s 6ms/step - loss: 0.0497 - accuracy: 0.9874 - val_loss: 0.0597 - val_accuracy: 0.9822\n",
            "Epoch 31/100\n",
            "469/469 [==============================] - 3s 6ms/step - loss: 0.0483 - accuracy: 0.9877 - val_loss: 0.0588 - val_accuracy: 0.9819\n",
            "Epoch 32/100\n",
            "469/469 [==============================] - 3s 6ms/step - loss: 0.0467 - accuracy: 0.9882 - val_loss: 0.0575 - val_accuracy: 0.9825\n",
            "Epoch 33/100\n",
            "469/469 [==============================] - 3s 6ms/step - loss: 0.0450 - accuracy: 0.9887 - val_loss: 0.0563 - val_accuracy: 0.9824\n",
            "Epoch 34/100\n",
            "469/469 [==============================] - 3s 6ms/step - loss: 0.0436 - accuracy: 0.9890 - val_loss: 0.0561 - val_accuracy: 0.9825\n",
            "Epoch 35/100\n",
            "469/469 [==============================] - 3s 5ms/step - loss: 0.0422 - accuracy: 0.9893 - val_loss: 0.0549 - val_accuracy: 0.9830\n",
            "Epoch 36/100\n",
            "469/469 [==============================] - 3s 6ms/step - loss: 0.0409 - accuracy: 0.9899 - val_loss: 0.0536 - val_accuracy: 0.9828\n",
            "Epoch 37/100\n",
            "469/469 [==============================] - 3s 6ms/step - loss: 0.0396 - accuracy: 0.9901 - val_loss: 0.0533 - val_accuracy: 0.9830\n",
            "Epoch 38/100\n",
            "469/469 [==============================] - 3s 6ms/step - loss: 0.0384 - accuracy: 0.9903 - val_loss: 0.0525 - val_accuracy: 0.9833\n",
            "Epoch 39/100\n",
            "469/469 [==============================] - 3s 5ms/step - loss: 0.0374 - accuracy: 0.9906 - val_loss: 0.0511 - val_accuracy: 0.9833\n",
            "Epoch 40/100\n",
            "469/469 [==============================] - 3s 6ms/step - loss: 0.0363 - accuracy: 0.9911 - val_loss: 0.0511 - val_accuracy: 0.9839\n",
            "Epoch 41/100\n",
            "469/469 [==============================] - 3s 6ms/step - loss: 0.0352 - accuracy: 0.9911 - val_loss: 0.0505 - val_accuracy: 0.9843\n",
            "Epoch 42/100\n",
            "469/469 [==============================] - 3s 6ms/step - loss: 0.0342 - accuracy: 0.9917 - val_loss: 0.0497 - val_accuracy: 0.9844\n",
            "Epoch 43/100\n",
            "469/469 [==============================] - 3s 5ms/step - loss: 0.0332 - accuracy: 0.9919 - val_loss: 0.0492 - val_accuracy: 0.9848\n",
            "Epoch 44/100\n",
            "469/469 [==============================] - 3s 6ms/step - loss: 0.0324 - accuracy: 0.9920 - val_loss: 0.0485 - val_accuracy: 0.9847\n",
            "Epoch 45/100\n",
            "469/469 [==============================] - 3s 7ms/step - loss: 0.0315 - accuracy: 0.9923 - val_loss: 0.0475 - val_accuracy: 0.9849\n",
            "Epoch 46/100\n",
            "469/469 [==============================] - 3s 6ms/step - loss: 0.0306 - accuracy: 0.9926 - val_loss: 0.0471 - val_accuracy: 0.9840\n",
            "Epoch 47/100\n",
            "469/469 [==============================] - 3s 6ms/step - loss: 0.0297 - accuracy: 0.9928 - val_loss: 0.0466 - val_accuracy: 0.9846\n",
            "Epoch 48/100\n",
            "469/469 [==============================] - 3s 6ms/step - loss: 0.0290 - accuracy: 0.9930 - val_loss: 0.0463 - val_accuracy: 0.9857\n",
            "Epoch 49/100\n",
            "469/469 [==============================] - 3s 6ms/step - loss: 0.0282 - accuracy: 0.9936 - val_loss: 0.0458 - val_accuracy: 0.9842\n",
            "Epoch 50/100\n",
            "469/469 [==============================] - 3s 6ms/step - loss: 0.0275 - accuracy: 0.9934 - val_loss: 0.0452 - val_accuracy: 0.9852\n",
            "Epoch 51/100\n",
            "469/469 [==============================] - 3s 6ms/step - loss: 0.0267 - accuracy: 0.9938 - val_loss: 0.0455 - val_accuracy: 0.9851\n",
            "Epoch 52/100\n",
            "469/469 [==============================] - 3s 5ms/step - loss: 0.0261 - accuracy: 0.9940 - val_loss: 0.0459 - val_accuracy: 0.9854\n",
            "Epoch 53/100\n",
            "469/469 [==============================] - 3s 6ms/step - loss: 0.0254 - accuracy: 0.9941 - val_loss: 0.0447 - val_accuracy: 0.9861\n",
            "Epoch 54/100\n",
            "469/469 [==============================] - 3s 7ms/step - loss: 0.0248 - accuracy: 0.9942 - val_loss: 0.0442 - val_accuracy: 0.9852\n",
            "Epoch 55/100\n",
            "469/469 [==============================] - 3s 5ms/step - loss: 0.0241 - accuracy: 0.9945 - val_loss: 0.0451 - val_accuracy: 0.9855\n",
            "Epoch 56/100\n",
            "469/469 [==============================] - 3s 6ms/step - loss: 0.0236 - accuracy: 0.9947 - val_loss: 0.0433 - val_accuracy: 0.9859\n",
            "Epoch 57/100\n",
            "469/469 [==============================] - 3s 6ms/step - loss: 0.0230 - accuracy: 0.9950 - val_loss: 0.0435 - val_accuracy: 0.9853\n",
            "Epoch 58/100\n",
            "469/469 [==============================] - 3s 7ms/step - loss: 0.0225 - accuracy: 0.9952 - val_loss: 0.0430 - val_accuracy: 0.9861\n",
            "Epoch 59/100\n",
            "469/469 [==============================] - 3s 7ms/step - loss: 0.0219 - accuracy: 0.9953 - val_loss: 0.0427 - val_accuracy: 0.9858\n",
            "Epoch 60/100\n",
            "469/469 [==============================] - 3s 6ms/step - loss: 0.0214 - accuracy: 0.9954 - val_loss: 0.0422 - val_accuracy: 0.9856\n",
            "Epoch 61/100\n",
            "469/469 [==============================] - 3s 6ms/step - loss: 0.0209 - accuracy: 0.9955 - val_loss: 0.0415 - val_accuracy: 0.9869\n",
            "Epoch 62/100\n",
            "469/469 [==============================] - 3s 6ms/step - loss: 0.0204 - accuracy: 0.9958 - val_loss: 0.0418 - val_accuracy: 0.9858\n",
            "Epoch 63/100\n",
            "469/469 [==============================] - 3s 6ms/step - loss: 0.0200 - accuracy: 0.9958 - val_loss: 0.0413 - val_accuracy: 0.9866\n",
            "Epoch 64/100\n",
            "469/469 [==============================] - 3s 6ms/step - loss: 0.0195 - accuracy: 0.9961 - val_loss: 0.0415 - val_accuracy: 0.9861\n",
            "Epoch 65/100\n",
            "469/469 [==============================] - 3s 6ms/step - loss: 0.0190 - accuracy: 0.9962 - val_loss: 0.0415 - val_accuracy: 0.9866\n",
            "Epoch 66/100\n",
            "469/469 [==============================] - 3s 6ms/step - loss: 0.0186 - accuracy: 0.9963 - val_loss: 0.0412 - val_accuracy: 0.9865\n",
            "Epoch 67/100\n",
            "469/469 [==============================] - 3s 6ms/step - loss: 0.0182 - accuracy: 0.9963 - val_loss: 0.0403 - val_accuracy: 0.9870\n",
            "Epoch 68/100\n",
            "469/469 [==============================] - 3s 6ms/step - loss: 0.0178 - accuracy: 0.9966 - val_loss: 0.0408 - val_accuracy: 0.9866\n",
            "Epoch 69/100\n",
            "469/469 [==============================] - 3s 6ms/step - loss: 0.0174 - accuracy: 0.9966 - val_loss: 0.0403 - val_accuracy: 0.9866\n",
            "Epoch 70/100\n",
            "469/469 [==============================] - 3s 6ms/step - loss: 0.0169 - accuracy: 0.9969 - val_loss: 0.0399 - val_accuracy: 0.9870\n",
            "Epoch 71/100\n",
            "469/469 [==============================] - 3s 7ms/step - loss: 0.0166 - accuracy: 0.9970 - val_loss: 0.0397 - val_accuracy: 0.9869\n",
            "Epoch 72/100\n",
            "469/469 [==============================] - 3s 6ms/step - loss: 0.0162 - accuracy: 0.9971 - val_loss: 0.0391 - val_accuracy: 0.9867\n",
            "Epoch 73/100\n",
            "469/469 [==============================] - 3s 6ms/step - loss: 0.0159 - accuracy: 0.9970 - val_loss: 0.0396 - val_accuracy: 0.9867\n",
            "Epoch 74/100\n",
            "469/469 [==============================] - 3s 6ms/step - loss: 0.0156 - accuracy: 0.9970 - val_loss: 0.0393 - val_accuracy: 0.9865\n",
            "Epoch 75/100\n",
            "469/469 [==============================] - 3s 6ms/step - loss: 0.0153 - accuracy: 0.9973 - val_loss: 0.0392 - val_accuracy: 0.9872\n",
            "Epoch 76/100\n",
            "469/469 [==============================] - 3s 7ms/step - loss: 0.0149 - accuracy: 0.9972 - val_loss: 0.0388 - val_accuracy: 0.9874\n",
            "Epoch 77/100\n",
            "469/469 [==============================] - 3s 5ms/step - loss: 0.0146 - accuracy: 0.9974 - val_loss: 0.0389 - val_accuracy: 0.9871\n",
            "Epoch 78/100\n",
            "469/469 [==============================] - 3s 6ms/step - loss: 0.0143 - accuracy: 0.9976 - val_loss: 0.0387 - val_accuracy: 0.9868\n",
            "Epoch 79/100\n",
            "469/469 [==============================] - 3s 5ms/step - loss: 0.0140 - accuracy: 0.9977 - val_loss: 0.0385 - val_accuracy: 0.9867\n",
            "Epoch 80/100\n",
            "469/469 [==============================] - 3s 7ms/step - loss: 0.0137 - accuracy: 0.9978 - val_loss: 0.0385 - val_accuracy: 0.9870\n",
            "Epoch 81/100\n",
            "469/469 [==============================] - 3s 6ms/step - loss: 0.0134 - accuracy: 0.9977 - val_loss: 0.0386 - val_accuracy: 0.9869\n",
            "Epoch 82/100\n",
            "469/469 [==============================] - 3s 6ms/step - loss: 0.0131 - accuracy: 0.9980 - val_loss: 0.0389 - val_accuracy: 0.9876\n",
            "Epoch 83/100\n",
            "469/469 [==============================] - 3s 6ms/step - loss: 0.0129 - accuracy: 0.9980 - val_loss: 0.0377 - val_accuracy: 0.9871\n",
            "Epoch 84/100\n",
            "469/469 [==============================] - 3s 6ms/step - loss: 0.0127 - accuracy: 0.9980 - val_loss: 0.0383 - val_accuracy: 0.9867\n",
            "Epoch 85/100\n",
            "469/469 [==============================] - 3s 6ms/step - loss: 0.0124 - accuracy: 0.9981 - val_loss: 0.0375 - val_accuracy: 0.9875\n",
            "Epoch 86/100\n",
            "469/469 [==============================] - 3s 6ms/step - loss: 0.0122 - accuracy: 0.9982 - val_loss: 0.0373 - val_accuracy: 0.9873\n",
            "Epoch 87/100\n",
            "469/469 [==============================] - 3s 6ms/step - loss: 0.0119 - accuracy: 0.9983 - val_loss: 0.0372 - val_accuracy: 0.9871\n",
            "Epoch 88/100\n",
            "469/469 [==============================] - 3s 6ms/step - loss: 0.0117 - accuracy: 0.9984 - val_loss: 0.0375 - val_accuracy: 0.9868\n",
            "Epoch 89/100\n",
            "469/469 [==============================] - 3s 7ms/step - loss: 0.0114 - accuracy: 0.9984 - val_loss: 0.0373 - val_accuracy: 0.9872\n",
            "Epoch 90/100\n",
            "469/469 [==============================] - 3s 5ms/step - loss: 0.0113 - accuracy: 0.9984 - val_loss: 0.0372 - val_accuracy: 0.9873\n",
            "Epoch 91/100\n",
            "469/469 [==============================] - 3s 6ms/step - loss: 0.0111 - accuracy: 0.9985 - val_loss: 0.0376 - val_accuracy: 0.9872\n",
            "Epoch 92/100\n",
            "469/469 [==============================] - 3s 6ms/step - loss: 0.0108 - accuracy: 0.9984 - val_loss: 0.0375 - val_accuracy: 0.9876\n"
          ]
        }
      ]
    },
    {
      "cell_type": "markdown",
      "metadata": {
        "id": "oWoONCHz_kA8"
      },
      "source": [
        "## Evaluate the Model"
      ]
    },
    {
      "cell_type": "code",
      "metadata": {
        "id": "8Txxf5ns_kA9",
        "colab": {
          "base_uri": "https://localhost:8080/"
        },
        "outputId": "d9cd3a13-c66c-40b9-9632-c07f30119f6a"
      },
      "source": [
        "test_score = model.evaluate(x_test, y_test)\n",
        "print('Test loss {:.4f}, accuracy {:.2f}%'.format(test_score[0], test_score[1] * 100))"
      ],
      "execution_count": null,
      "outputs": [
        {
          "output_type": "stream",
          "name": "stdout",
          "text": [
            "313/313 [==============================] - 1s 3ms/step - loss: 0.0375 - accuracy: 0.9876\n",
            "Test loss 0.0375, accuracy 98.76%\n"
          ]
        }
      ]
    },
    {
      "cell_type": "code",
      "metadata": {
        "id": "f3gHngKhakzl",
        "colab": {
          "base_uri": "https://localhost:8080/"
        },
        "outputId": "bda52f0f-5c3a-4974-f143-e7f2ddf8b44c"
      },
      "source": [
        "hist.history"
      ],
      "execution_count": null,
      "outputs": [
        {
          "output_type": "execute_result",
          "data": {
            "text/plain": [
              "{'loss': [0.7194532155990601,\n",
              "  0.3280620574951172,\n",
              "  0.2673409879207611,\n",
              "  0.23065795004367828,\n",
              "  0.20466198027133942,\n",
              "  0.18439115583896637,\n",
              "  0.16824162006378174,\n",
              "  0.15455876290798187,\n",
              "  0.1426716446876526,\n",
              "  0.1324869841337204,\n",
              "  0.12350668758153915,\n",
              "  0.11552678048610687,\n",
              "  0.10843849927186966,\n",
              "  0.1020500659942627,\n",
              "  0.09629734605550766,\n",
              "  0.0911189466714859,\n",
              "  0.08631735295057297,\n",
              "  0.08216287940740585,\n",
              "  0.07806333899497986,\n",
              "  0.07458975911140442,\n",
              "  0.0712222084403038,\n",
              "  0.06824202090501785,\n",
              "  0.06528590619564056,\n",
              "  0.06269869208335876,\n",
              "  0.06009611114859581,\n",
              "  0.05787438526749611,\n",
              "  0.05570429190993309,\n",
              "  0.05362726375460625,\n",
              "  0.0516933798789978,\n",
              "  0.04970047250390053,\n",
              "  0.048303842544555664,\n",
              "  0.046706803143024445,\n",
              "  0.045043908059597015,\n",
              "  0.04359540343284607,\n",
              "  0.042164064943790436,\n",
              "  0.04093995690345764,\n",
              "  0.03963581100106239,\n",
              "  0.0384497195482254,\n",
              "  0.03741098567843437,\n",
              "  0.03626025468111038,\n",
              "  0.03521742671728134,\n",
              "  0.03419006988406181,\n",
              "  0.033215995877981186,\n",
              "  0.03240256756544113,\n",
              "  0.03145274519920349,\n",
              "  0.03061213716864586,\n",
              "  0.02972777560353279,\n",
              "  0.029016993939876556,\n",
              "  0.02816830575466156,\n",
              "  0.02748859114944935,\n",
              "  0.026735449209809303,\n",
              "  0.0261016134172678,\n",
              "  0.025396108627319336,\n",
              "  0.024756968021392822,\n",
              "  0.02412455528974533,\n",
              "  0.023619338870048523,\n",
              "  0.023020867258310318,\n",
              "  0.022480208426713943,\n",
              "  0.02189495787024498,\n",
              "  0.02139859087765217,\n",
              "  0.020865939557552338,\n",
              "  0.020399820059537888,\n",
              "  0.019956445321440697,\n",
              "  0.019460320472717285,\n",
              "  0.019037485122680664,\n",
              "  0.01856786012649536,\n",
              "  0.018218442797660828,\n",
              "  0.01778305135667324,\n",
              "  0.01737760379910469,\n",
              "  0.016945770010352135,\n",
              "  0.016570640727877617,\n",
              "  0.01621653325855732,\n",
              "  0.01591312140226364,\n",
              "  0.015571909956634045,\n",
              "  0.015255161561071873,\n",
              "  0.01492732297629118,\n",
              "  0.014589942991733551,\n",
              "  0.014251818880438805,\n",
              "  0.013994448818266392,\n",
              "  0.01371016912162304,\n",
              "  0.013446378521621227,\n",
              "  0.013147739693522453,\n",
              "  0.012898589484393597,\n",
              "  0.012656540609896183,\n",
              "  0.012424315325915813,\n",
              "  0.01220798771828413,\n",
              "  0.011931175366044044,\n",
              "  0.0117104547098279,\n",
              "  0.011432629078626633,\n",
              "  0.011273296549916267,\n",
              "  0.011085313744843006,\n",
              "  0.010838793590664864],\n",
              " 'accuracy': [0.8141666650772095,\n",
              "  0.9060666561126709,\n",
              "  0.9235833287239075,\n",
              "  0.9340166449546814,\n",
              "  0.9419833421707153,\n",
              "  0.9482333064079285,\n",
              "  0.9527000188827515,\n",
              "  0.956849992275238,\n",
              "  0.9601333141326904,\n",
              "  0.9631666541099548,\n",
              "  0.9656500220298767,\n",
              "  0.9680666923522949,\n",
              "  0.9705333113670349,\n",
              "  0.9721166491508484,\n",
              "  0.9740833044052124,\n",
              "  0.9750999808311462,\n",
              "  0.9764000177383423,\n",
              "  0.9778833389282227,\n",
              "  0.9794166684150696,\n",
              "  0.9802166819572449,\n",
              "  0.9812833070755005,\n",
              "  0.9820166826248169,\n",
              "  0.9829833507537842,\n",
              "  0.9840166568756104,\n",
              "  0.9846000075340271,\n",
              "  0.9849500060081482,\n",
              "  0.9857833385467529,\n",
              "  0.9863166809082031,\n",
              "  0.9868999719619751,\n",
              "  0.9874333143234253,\n",
              "  0.987666666507721,\n",
              "  0.9881500005722046,\n",
              "  0.9886833429336548,\n",
              "  0.9890333414077759,\n",
              "  0.9892666935920715,\n",
              "  0.9898666739463806,\n",
              "  0.990066647529602,\n",
              "  0.9902833104133606,\n",
              "  0.9905999898910522,\n",
              "  0.9910833239555359,\n",
              "  0.9911166429519653,\n",
              "  0.9916999936103821,\n",
              "  0.9919333457946777,\n",
              "  0.9919833540916443,\n",
              "  0.9923166632652283,\n",
              "  0.9925833344459534,\n",
              "  0.9927999973297119,\n",
              "  0.9929666519165039,\n",
              "  0.9935666918754578,\n",
              "  0.9934333562850952,\n",
              "  0.9938166737556458,\n",
              "  0.9940166473388672,\n",
              "  0.9941166639328003,\n",
              "  0.9942333102226257,\n",
              "  0.9945166707038879,\n",
              "  0.9947166442871094,\n",
              "  0.9949833154678345,\n",
              "  0.9951666593551636,\n",
              "  0.9952999949455261,\n",
              "  0.9954000115394592,\n",
              "  0.9955499768257141,\n",
              "  0.9957500100135803,\n",
              "  0.9958000183105469,\n",
              "  0.9961000084877014,\n",
              "  0.9962000250816345,\n",
              "  0.99631667137146,\n",
              "  0.9963333606719971,\n",
              "  0.996566653251648,\n",
              "  0.996649980545044,\n",
              "  0.9968833327293396,\n",
              "  0.9970333576202393,\n",
              "  0.997083306312561,\n",
              "  0.996999979019165,\n",
              "  0.9970499873161316,\n",
              "  0.9973000288009644,\n",
              "  0.9972000122070312,\n",
              "  0.9973999857902527,\n",
              "  0.9976333379745483,\n",
              "  0.9976999759674072,\n",
              "  0.9977999925613403,\n",
              "  0.9976833462715149,\n",
              "  0.998033344745636,\n",
              "  0.9979833364486694,\n",
              "  0.998033344745636,\n",
              "  0.9981333613395691,\n",
              "  0.9981666803359985,\n",
              "  0.9982500076293945,\n",
              "  0.9983833432197571,\n",
              "  0.9984333515167236,\n",
              "  0.998449981212616,\n",
              "  0.998533308506012,\n",
              "  0.9984166622161865],\n",
              " 'val_loss': [0.35779768228530884,\n",
              "  0.2773783802986145,\n",
              "  0.23505033552646637,\n",
              "  0.20824865996837616,\n",
              "  0.18633624911308289,\n",
              "  0.17067468166351318,\n",
              "  0.15728475153446198,\n",
              "  0.14613784849643707,\n",
              "  0.13757626712322235,\n",
              "  0.127431720495224,\n",
              "  0.1205865740776062,\n",
              "  0.11301445215940475,\n",
              "  0.10724758356809616,\n",
              "  0.1024061068892479,\n",
              "  0.09723544120788574,\n",
              "  0.09254820644855499,\n",
              "  0.08923789858818054,\n",
              "  0.0856490358710289,\n",
              "  0.08213463425636292,\n",
              "  0.08020470291376114,\n",
              "  0.07731829583644867,\n",
              "  0.07391657680273056,\n",
              "  0.07193057239055634,\n",
              "  0.06940366327762604,\n",
              "  0.06805653125047684,\n",
              "  0.06579666584730148,\n",
              "  0.06453169137239456,\n",
              "  0.06328561156988144,\n",
              "  0.06119709461927414,\n",
              "  0.05973052233457565,\n",
              "  0.05884113162755966,\n",
              "  0.05748718976974487,\n",
              "  0.056295525282621384,\n",
              "  0.05605769529938698,\n",
              "  0.05486482009291649,\n",
              "  0.05363980680704117,\n",
              "  0.05327950417995453,\n",
              "  0.05253789573907852,\n",
              "  0.05110213905572891,\n",
              "  0.05108322948217392,\n",
              "  0.05046723037958145,\n",
              "  0.049683742225170135,\n",
              "  0.04922643303871155,\n",
              "  0.04854385182261467,\n",
              "  0.0474550798535347,\n",
              "  0.0470971055328846,\n",
              "  0.046619854867458344,\n",
              "  0.04634137451648712,\n",
              "  0.045753344893455505,\n",
              "  0.0451565720140934,\n",
              "  0.045545995235443115,\n",
              "  0.045852646231651306,\n",
              "  0.04467332363128662,\n",
              "  0.044244591146707535,\n",
              "  0.04514210671186447,\n",
              "  0.04334872588515282,\n",
              "  0.0434618815779686,\n",
              "  0.042976658791303635,\n",
              "  0.042698293924331665,\n",
              "  0.042221587151288986,\n",
              "  0.04148368909955025,\n",
              "  0.04177585616707802,\n",
              "  0.04127639904618263,\n",
              "  0.04149456322193146,\n",
              "  0.04154159501194954,\n",
              "  0.041151389479637146,\n",
              "  0.04027971997857094,\n",
              "  0.04082227125763893,\n",
              "  0.04031844064593315,\n",
              "  0.039915140718221664,\n",
              "  0.03967687860131264,\n",
              "  0.03908061981201172,\n",
              "  0.03960127755999565,\n",
              "  0.03925829753279686,\n",
              "  0.03918299078941345,\n",
              "  0.03881935402750969,\n",
              "  0.03893835470080376,\n",
              "  0.03872120380401611,\n",
              "  0.03853059187531471,\n",
              "  0.03854970261454582,\n",
              "  0.03860907256603241,\n",
              "  0.03892321139574051,\n",
              "  0.03767972066998482,\n",
              "  0.03832264617085457,\n",
              "  0.03753802925348282,\n",
              "  0.03734373301267624,\n",
              "  0.03716731816530228,\n",
              "  0.03745285049080849,\n",
              "  0.03733844310045242,\n",
              "  0.03720112890005112,\n",
              "  0.0375993587076664,\n",
              "  0.03745660185813904],\n",
              " 'val_accuracy': [0.8999000191688538,\n",
              "  0.9212999939918518,\n",
              "  0.9333000183105469,\n",
              "  0.9406999945640564,\n",
              "  0.947700023651123,\n",
              "  0.9523000121116638,\n",
              "  0.9556999802589417,\n",
              "  0.9587000012397766,\n",
              "  0.9611999988555908,\n",
              "  0.963699996471405,\n",
              "  0.9661999940872192,\n",
              "  0.9682999849319458,\n",
              "  0.9695000052452087,\n",
              "  0.9704999923706055,\n",
              "  0.972100019454956,\n",
              "  0.9735999703407288,\n",
              "  0.9746000170707703,\n",
              "  0.9749000072479248,\n",
              "  0.9758999943733215,\n",
              "  0.9768999814987183,\n",
              "  0.9775999784469604,\n",
              "  0.9781000018119812,\n",
              "  0.9793999791145325,\n",
              "  0.9800999760627747,\n",
              "  0.9800000190734863,\n",
              "  0.9805999994277954,\n",
              "  0.980400025844574,\n",
              "  0.9811999797821045,\n",
              "  0.9815999865531921,\n",
              "  0.982200026512146,\n",
              "  0.9818999767303467,\n",
              "  0.9825000166893005,\n",
              "  0.9824000000953674,\n",
              "  0.9825000166893005,\n",
              "  0.9829999804496765,\n",
              "  0.9828000068664551,\n",
              "  0.9829999804496765,\n",
              "  0.983299970626831,\n",
              "  0.983299970626831,\n",
              "  0.9839000105857849,\n",
              "  0.9843000173568726,\n",
              "  0.9843999743461609,\n",
              "  0.9847999811172485,\n",
              "  0.9847000241279602,\n",
              "  0.9848999977111816,\n",
              "  0.984000027179718,\n",
              "  0.9846000075340271,\n",
              "  0.9857000112533569,\n",
              "  0.9842000007629395,\n",
              "  0.9851999878883362,\n",
              "  0.9850999712944031,\n",
              "  0.9854000210762024,\n",
              "  0.9861000180244446,\n",
              "  0.9851999878883362,\n",
              "  0.9854999780654907,\n",
              "  0.9858999848365784,\n",
              "  0.9853000044822693,\n",
              "  0.9861000180244446,\n",
              "  0.98580002784729,\n",
              "  0.9855999946594238,\n",
              "  0.9868999719619751,\n",
              "  0.98580002784729,\n",
              "  0.9865999817848206,\n",
              "  0.9861000180244446,\n",
              "  0.9865999817848206,\n",
              "  0.9865000247955322,\n",
              "  0.9869999885559082,\n",
              "  0.9865999817848206,\n",
              "  0.9865999817848206,\n",
              "  0.9869999885559082,\n",
              "  0.9868999719619751,\n",
              "  0.9866999983787537,\n",
              "  0.9866999983787537,\n",
              "  0.9865000247955322,\n",
              "  0.9872000217437744,\n",
              "  0.9873999953269958,\n",
              "  0.9871000051498413,\n",
              "  0.9868000149726868,\n",
              "  0.9866999983787537,\n",
              "  0.9869999885559082,\n",
              "  0.9868999719619751,\n",
              "  0.9876000285148621,\n",
              "  0.9871000051498413,\n",
              "  0.9866999983787537,\n",
              "  0.987500011920929,\n",
              "  0.9872999787330627,\n",
              "  0.9871000051498413,\n",
              "  0.9868000149726868,\n",
              "  0.9872000217437744,\n",
              "  0.9872999787330627,\n",
              "  0.9872000217437744,\n",
              "  0.9876000285148621]}"
            ]
          },
          "metadata": {},
          "execution_count": 25
        }
      ]
    },
    {
      "cell_type": "markdown",
      "metadata": {
        "id": "yB7Grc02_kA-"
      },
      "source": [
        "## Visualize the Training Process"
      ]
    },
    {
      "cell_type": "code",
      "metadata": {
        "id": "yLLDJMHs_kA_",
        "colab": {
          "base_uri": "https://localhost:8080/",
          "height": 590
        },
        "outputId": "12ba0737-940d-461a-dff5-27b034474949"
      },
      "source": [
        "import matplotlib.pyplot as plt\n",
        "\n",
        "f, ax = plt.subplots()\n",
        "ax.plot([None] + hist.history['accuracy'], 'o-')\n",
        "ax.plot([None] + hist.history['val_accuracy'], 'x-')\n",
        "\n",
        "# Plot legend and use the best location automatically: loc = 0.\n",
        "ax.legend(['Train acc', 'Validation acc'], loc = 0)\n",
        "ax.set_title('Training/ Validation acc per Epoch')\n",
        "ax.set_xlabel('Epoch')\n",
        "ax.set_ylabel('acc')\n",
        "\n",
        "\n",
        "f, ax = plt.subplots()\n",
        "ax.plot([None] + hist.history['loss'], 'o-')\n",
        "ax.plot([None] + hist.history['val_loss'], 'x-')\n",
        "\n",
        "# Plot legend and use the best location automatically: loc = 0.\n",
        "ax.legend(['Train loss', 'Validation loss'], loc = 0)\n",
        "ax.set_title('Training/ Validation loss per Epoch')\n",
        "ax.set_xlabel('Epoch')\n",
        "ax.set_ylabel('loss')"
      ],
      "execution_count": null,
      "outputs": [
        {
          "output_type": "execute_result",
          "data": {
            "text/plain": [
              "Text(0, 0.5, 'loss')"
            ]
          },
          "metadata": {},
          "execution_count": 26
        },
        {
          "output_type": "display_data",
          "data": {
            "text/plain": [
              "<Figure size 432x288 with 1 Axes>"
            ],
            "image/png": "[encoded data removed]"
          },
          "metadata": {
            "needs_background": "light"
          }
        },
        {
          "output_type": "display_data",
          "data": {
            "text/plain": [
              "<Figure size 432x288 with 1 Axes>"
            ],
            "image/png": "[encoded data removed]"
          },
          "metadata": {
            "needs_background": "light"
          }
        }
      ]
    }
  ]
}